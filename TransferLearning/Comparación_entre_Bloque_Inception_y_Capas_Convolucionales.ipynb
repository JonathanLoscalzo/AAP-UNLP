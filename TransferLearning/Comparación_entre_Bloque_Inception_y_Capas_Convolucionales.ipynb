{
  "nbformat": 4,
  "nbformat_minor": 0,
  "metadata": {
    "colab": {
      "name": "Comparación entre Bloque Inception y Capas Convolucionales",
      "provenance": []
    },
    "kernelspec": {
      "name": "python3",
      "display_name": "Python 3"
    }
  },
  "cells": [
    {
      "cell_type": "code",
      "metadata": {
        "id": "uyr4TgMy8oI1",
        "colab_type": "code",
        "outputId": "1a61a28b-d78f-4c04-caf2-598b457924b1",
        "colab": {
          "base_uri": "https://localhost:8080/",
          "height": 830
        }
      },
      "source": [
        "import keras\n",
        "from keras.layers import Flatten,Conv2D,Dense,MaxPooling2D,InputLayer,Activation,GlobalAveragePooling2D, Input, Concatenate, Flatten\n",
        "from keras import Model, Sequential\n",
        "\n",
        "def bottleneck(x,F3x3_1x1,F3x3,F5x5_1x1,F5x5,F1x1,Fmp_1x1,name):\n",
        "  c3x3_1x1 = Conv2D(F3x3_1x1,(1,1),padding=\"same\",name=f\"{name}_3x3_1x1\")(x)\n",
        "  c3x3     = Conv2D(F3x3,(3,3),padding=\"same\",name=f\"{name}_3x3\")(c3x3_1x1)\n",
        "\n",
        "  c5x5_1x1 = Conv2D(F5x5_1x1,(1,1),padding=\"same\",name=f\"{name}_5x5_1x1\")(x)\n",
        "  c5x5     = Conv2D(F5x5,(5,5),padding=\"same\",name=f\"{name}_5x5\")(c5x5_1x1)\n",
        "\n",
        "  c1x1     = Conv2D(F1x1,(1,1),padding=\"same\",name=f\"{name}_1x1\")(x)\n",
        "\n",
        "  mp       = MaxPooling2D((3,3),strides=(1,1),padding=\"same\",name=f\"{name}_mp\")(x)\n",
        "  mp_1x1   = Conv2D(Fmp_1x1,(1,1),padding=\"same\",name=f\"{name}_mp_1x1\")(mp)\n",
        "  result  = Concatenate(name=f\"{name}_concat\")([c1x1, c3x3, c5x5, mp_1x1])\n",
        "\n",
        "  return result\n",
        "\n",
        "\n",
        "x = Input(shape=(32,32,64),name=\"input\")\n",
        "layer = bottleneck(x,5,10,20,30,40,50,\"block1\")\n",
        "\n",
        "model = Model(inputs=[x],outputs=[layer])\n",
        "print(model.summary())\n"
      ],
      "execution_count": 0,
      "outputs": [
        {
          "output_type": "stream",
          "text": [
            "Using TensorFlow backend.\n"
          ],
          "name": "stderr"
        },
        {
          "output_type": "stream",
          "text": [
            "WARNING:tensorflow:From /usr/local/lib/python3.6/dist-packages/keras/backend/tensorflow_backend.py:541: The name tf.placeholder is deprecated. Please use tf.compat.v1.placeholder instead.\n",
            "\n",
            "WARNING:tensorflow:From /usr/local/lib/python3.6/dist-packages/keras/backend/tensorflow_backend.py:4432: The name tf.random_uniform is deprecated. Please use tf.random.uniform instead.\n",
            "\n",
            "WARNING:tensorflow:From /usr/local/lib/python3.6/dist-packages/keras/backend/tensorflow_backend.py:4267: The name tf.nn.max_pool is deprecated. Please use tf.nn.max_pool2d instead.\n",
            "\n",
            "WARNING:tensorflow:From /usr/local/lib/python3.6/dist-packages/keras/backend/tensorflow_backend.py:66: The name tf.get_default_graph is deprecated. Please use tf.compat.v1.get_default_graph instead.\n",
            "\n",
            "Model: \"model_1\"\n",
            "__________________________________________________________________________________________________\n",
            "Layer (type)                    Output Shape         Param #     Connected to                     \n",
            "==================================================================================================\n",
            "input (InputLayer)              (None, 32, 32, 64)   0                                            \n",
            "__________________________________________________________________________________________________\n",
            "block1_3x3_1x1 (Conv2D)         (None, 32, 32, 5)    325         input[0][0]                      \n",
            "__________________________________________________________________________________________________\n",
            "block1_5x5_1x1 (Conv2D)         (None, 32, 32, 20)   1300        input[0][0]                      \n",
            "__________________________________________________________________________________________________\n",
            "block1_mp (MaxPooling2D)        (None, 32, 32, 64)   0           input[0][0]                      \n",
            "__________________________________________________________________________________________________\n",
            "block1_1x1 (Conv2D)             (None, 32, 32, 40)   2600        input[0][0]                      \n",
            "__________________________________________________________________________________________________\n",
            "block1_3x3 (Conv2D)             (None, 32, 32, 10)   460         block1_3x3_1x1[0][0]             \n",
            "__________________________________________________________________________________________________\n",
            "block1_5x5 (Conv2D)             (None, 32, 32, 30)   15030       block1_5x5_1x1[0][0]             \n",
            "__________________________________________________________________________________________________\n",
            "block1_mp_1x1 (Conv2D)          (None, 32, 32, 50)   3250        block1_mp[0][0]                  \n",
            "__________________________________________________________________________________________________\n",
            "block1_concat (Concatenate)     (None, 32, 32, 130)  0           block1_1x1[0][0]                 \n",
            "                                                                 block1_3x3[0][0]                 \n",
            "                                                                 block1_5x5[0][0]                 \n",
            "                                                                 block1_mp_1x1[0][0]              \n",
            "==================================================================================================\n",
            "Total params: 22,965\n",
            "Trainable params: 22,965\n",
            "Non-trainable params: 0\n",
            "__________________________________________________________________________________________________\n",
            "None\n"
          ],
          "name": "stdout"
        }
      ]
    },
    {
      "cell_type": "code",
      "metadata": {
        "id": "7YQgwnb8802u",
        "colab_type": "code",
        "outputId": "bed21a68-177a-4f52-b432-66976c2b43bf",
        "colab": {
          "base_uri": "https://localhost:8080/",
          "height": 281
        }
      },
      "source": [
        "x = Input(shape=(32,32,64),name=\"input\")\n",
        "layer = Conv2D(160,(5,5),name=\"conv\")(x)\n",
        "\n",
        "model = Model(inputs=[x],outputs=[layer])\n",
        "print(model.summary())\n"
      ],
      "execution_count": 0,
      "outputs": [
        {
          "output_type": "stream",
          "text": [
            "Model: \"model_2\"\n",
            "_________________________________________________________________\n",
            "Layer (type)                 Output Shape              Param #   \n",
            "=================================================================\n",
            "input (InputLayer)           (None, 32, 32, 64)        0         \n",
            "_________________________________________________________________\n",
            "conv (Conv2D)                (None, 28, 28, 160)       256160    \n",
            "=================================================================\n",
            "Total params: 256,160\n",
            "Trainable params: 256,160\n",
            "Non-trainable params: 0\n",
            "_________________________________________________________________\n",
            "None\n"
          ],
          "name": "stdout"
        }
      ]
    },
    {
      "cell_type": "code",
      "metadata": {
        "id": "1FGWgLGr83Il",
        "colab_type": "code",
        "outputId": "44dcf561-2014-4525-99dc-780899ba8042",
        "colab": {
          "base_uri": "https://localhost:8080/",
          "height": 281
        }
      },
      "source": [
        "layer = Conv2D(160,(3,3),name=\"conv\")(x)\n",
        "\n",
        "model = Model(inputs=[x],outputs=[layer])\n",
        "print(model.summary())"
      ],
      "execution_count": 0,
      "outputs": [
        {
          "output_type": "stream",
          "text": [
            "Model: \"model_3\"\n",
            "_________________________________________________________________\n",
            "Layer (type)                 Output Shape              Param #   \n",
            "=================================================================\n",
            "input (InputLayer)           (None, 32, 32, 64)        0         \n",
            "_________________________________________________________________\n",
            "conv (Conv2D)                (None, 30, 30, 160)       92320     \n",
            "=================================================================\n",
            "Total params: 92,320\n",
            "Trainable params: 92,320\n",
            "Non-trainable params: 0\n",
            "_________________________________________________________________\n",
            "None\n"
          ],
          "name": "stdout"
        }
      ]
    }
  ]
}