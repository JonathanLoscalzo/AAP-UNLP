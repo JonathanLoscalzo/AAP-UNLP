{
  "nbformat": 4,
  "nbformat_minor": 0,
  "metadata": {
    "colab": {
      "name": "Modelos de Grafos Arbitrarios",
      "provenance": []
    },
    "kernelspec": {
      "name": "python3",
      "display_name": "Python 3"
    }
  },
  "cells": [
    {
      "cell_type": "code",
      "metadata": {
        "id": "uSekppz7FXmn",
        "colab_type": "code",
        "outputId": "682c6ba4-2bd0-4437-c4b2-c95486af8e57",
        "colab": {
          "base_uri": "https://localhost:8080/",
          "height": 464
        }
      },
      "source": [
        "from keras import Model\n",
        "from keras.layers import Input,Conv2D,Dense, Concatenate,Flatten\n",
        "\n",
        "x     = Input(shape=(32,32,3))\n",
        "path1 = Conv2D(4,(3,3),padding=\"same\")(x)\n",
        "path2 = Conv2D(7,(5,5),padding=\"same\")(x)\n",
        "join  = Concatenate(axis=3)([path1,path2])\n",
        "flat  = Flatten()(join)\n",
        "fc    = Dense(10,activation=\"softmax\")(flat)\n",
        "model = Model(inputs=[x],outputs=[fc])\n",
        "\n",
        "print(model.summary())\n"
      ],
      "execution_count": 0,
      "outputs": [
        {
          "output_type": "stream",
          "text": [
            "Model: \"model_3\"\n",
            "__________________________________________________________________________________________________\n",
            "Layer (type)                    Output Shape         Param #     Connected to                     \n",
            "==================================================================================================\n",
            "input_3 (InputLayer)            (None, 32, 32, 3)    0                                            \n",
            "__________________________________________________________________________________________________\n",
            "conv2d_5 (Conv2D)               (None, 32, 32, 4)    112         input_3[0][0]                    \n",
            "__________________________________________________________________________________________________\n",
            "conv2d_6 (Conv2D)               (None, 32, 32, 7)    532         input_3[0][0]                    \n",
            "__________________________________________________________________________________________________\n",
            "concatenate_3 (Concatenate)     (None, 32, 32, 11)   0           conv2d_5[0][0]                   \n",
            "                                                                 conv2d_6[0][0]                   \n",
            "__________________________________________________________________________________________________\n",
            "flatten_2 (Flatten)             (None, 11264)        0           concatenate_3[0][0]              \n",
            "__________________________________________________________________________________________________\n",
            "dense_3 (Dense)                 (None, 10)           112650      flatten_2[0][0]                  \n",
            "==================================================================================================\n",
            "Total params: 113,294\n",
            "Trainable params: 113,294\n",
            "Non-trainable params: 0\n",
            "__________________________________________________________________________________________________\n",
            "None\n"
          ],
          "name": "stdout"
        }
      ]
    }
  ]
}