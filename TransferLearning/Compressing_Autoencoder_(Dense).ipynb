{
  "nbformat": 4,
  "nbformat_minor": 0,
  "metadata": {
    "colab": {
      "name": "Compressing Autoencoder (Dense)",
      "provenance": [],
      "collapsed_sections": []
    },
    "kernelspec": {
      "name": "python3",
      "display_name": "Python 3"
    }
  },
  "cells": [
    {
      "cell_type": "markdown",
      "metadata": {
        "id": "kDBLSUUJ2JJp",
        "colab_type": "text"
      },
      "source": [
        "# Entrenar un autoencoder basado en capas Dense en Mnist"
      ]
    },
    {
      "cell_type": "code",
      "metadata": {
        "id": "49xlYf-HfgNM",
        "colab_type": "code",
        "outputId": "e1c50b3d-e309-46c1-fe2d-69dba69597d2",
        "colab": {
          "base_uri": "https://localhost:8080/",
          "height": 1000
        }
      },
      "source": [
        "import keras\n",
        "from keras.layers import Activation, Dense, Input\n",
        "from keras.layers import Conv2D, Flatten\n",
        "from keras.layers import Reshape, Conv2DTranspose\n",
        "from keras.models import Model\n",
        "from keras.datasets import mnist\n",
        "import numpy as np\n",
        "import matplotlib.pyplot as plt\n",
        "from PIL import Image\n",
        "\n",
        "np.random.seed(1337)\n",
        "\n",
        "# MNIST dataset\n",
        "def load_data():\n",
        "  (x_train, _), (x_test, _) = mnist.load_data()\n",
        "  input_dim = 28*28\n",
        "  x_train = np.reshape(x_train, [-1, input_dim])/255.0\n",
        "  x_test = np.reshape(x_test,   [-1, input_dim])/255.0\n",
        "  \n",
        "  return x_train,x_test,input_dim\n",
        "\n",
        "\n",
        "def DenseAutoencoder(input_dim,latent_dim):\n",
        "  def generate_encoder():\n",
        "    encoder_input = Input(shape=(input_dim,), name='encoder_input')\n",
        "    code = Dense(latent_dim, name='latent_vector')(encoder_input)\n",
        "    encoder = Model(encoder_input, code, name='encoder')\n",
        "    return encoder,encoder_input\n",
        "\n",
        "  def generate_decoder():\n",
        "    latent_input = Input(shape=(latent_dim,), name='decoder_input')\n",
        "    decoded_image = Dense(input_dim,activation=\"sigmoid\",name='decoder_output')(latent_input)\n",
        "    decoder = Model(latent_input, decoded_image, name='decoder')\n",
        "    return decoder\n",
        "\n",
        "  encoder,encoder_input = generate_encoder()\n",
        "  decoder = generate_decoder()\n",
        "  autoencoder = Model(encoder_input, decoder(encoder(encoder_input)), name='autoencoder')\n",
        "  return autoencoder,encoder,decoder\n",
        "\n",
        "\n",
        "latent_dim = 64\n",
        "x_train,x_test,input_dim = load_data()\n",
        "print(x_train.shape,x_test.shape,input_dim)\n",
        "\n",
        "autoencoder,encoder,decoder=DenseAutoencoder(input_dim,latent_dim)\n",
        "\n",
        "autoencoder.compile(loss='binary_crossentropy', optimizer='adam')\n",
        "\n",
        "print(autoencoder.summary()) \n",
        "print(encoder.summary()) \n",
        "print(decoder.summary()) \n",
        "\n",
        "batch_size = 128\n",
        "# Train the autoencoder\n",
        "autoencoder.fit(x_train,\n",
        "                x_train,\n",
        "                validation_data=(x_test, x_test),\n",
        "                epochs=10,\n",
        "                batch_size=batch_size)\n",
        "\n",
        "# Predict the Autoencoder output from test images\n",
        "x_decoded = autoencoder.predict(x_test)\n",
        "\n",
        "\n",
        "\n",
        "\n"
      ],
      "execution_count": 0,
      "outputs": [
        {
          "output_type": "stream",
          "text": [
            "Using TensorFlow backend.\n"
          ],
          "name": "stderr"
        },
        {
          "output_type": "display_data",
          "data": {
            "text/html": [
              "<p style=\"color: red;\">\n",
              "The default version of TensorFlow in Colab will soon switch to TensorFlow 2.x.<br>\n",
              "We recommend you <a href=\"https://www.tensorflow.org/guide/migrate\" target=\"_blank\">upgrade</a> now \n",
              "or ensure your notebook will continue to use TensorFlow 1.x via the <code>%tensorflow_version 1.x</code> magic:\n",
              "<a href=\"https://colab.research.google.com/notebooks/tensorflow_version.ipynb\" target=\"_blank\">more info</a>.</p>\n"
            ],
            "text/plain": [
              "<IPython.core.display.HTML object>"
            ]
          },
          "metadata": {
            "tags": []
          }
        },
        {
          "output_type": "stream",
          "text": [
            "(60000, 784) (10000, 784) 784\n",
            "WARNING:tensorflow:From /usr/local/lib/python3.6/dist-packages/keras/backend/tensorflow_backend.py:541: The name tf.placeholder is deprecated. Please use tf.compat.v1.placeholder instead.\n",
            "\n",
            "WARNING:tensorflow:From /usr/local/lib/python3.6/dist-packages/keras/backend/tensorflow_backend.py:4432: The name tf.random_uniform is deprecated. Please use tf.random.uniform instead.\n",
            "\n",
            "WARNING:tensorflow:From /usr/local/lib/python3.6/dist-packages/keras/optimizers.py:793: The name tf.train.Optimizer is deprecated. Please use tf.compat.v1.train.Optimizer instead.\n",
            "\n",
            "WARNING:tensorflow:From /usr/local/lib/python3.6/dist-packages/keras/backend/tensorflow_backend.py:3657: The name tf.log is deprecated. Please use tf.math.log instead.\n",
            "\n",
            "WARNING:tensorflow:From /usr/local/lib/python3.6/dist-packages/tensorflow_core/python/ops/nn_impl.py:183: where (from tensorflow.python.ops.array_ops) is deprecated and will be removed in a future version.\n",
            "Instructions for updating:\n",
            "Use tf.where in 2.0, which has the same broadcast rule as np.where\n",
            "Model: \"autoencoder\"\n",
            "_________________________________________________________________\n",
            "Layer (type)                 Output Shape              Param #   \n",
            "=================================================================\n",
            "encoder_input (InputLayer)   (None, 784)               0         \n",
            "_________________________________________________________________\n",
            "encoder (Model)              (None, 64)                50240     \n",
            "_________________________________________________________________\n",
            "decoder (Model)              (None, 784)               50960     \n",
            "=================================================================\n",
            "Total params: 101,200\n",
            "Trainable params: 101,200\n",
            "Non-trainable params: 0\n",
            "_________________________________________________________________\n",
            "None\n",
            "Model: \"encoder\"\n",
            "_________________________________________________________________\n",
            "Layer (type)                 Output Shape              Param #   \n",
            "=================================================================\n",
            "encoder_input (InputLayer)   (None, 784)               0         \n",
            "_________________________________________________________________\n",
            "latent_vector (Dense)        (None, 64)                50240     \n",
            "=================================================================\n",
            "Total params: 50,240\n",
            "Trainable params: 50,240\n",
            "Non-trainable params: 0\n",
            "_________________________________________________________________\n",
            "None\n",
            "Model: \"decoder\"\n",
            "_________________________________________________________________\n",
            "Layer (type)                 Output Shape              Param #   \n",
            "=================================================================\n",
            "decoder_input (InputLayer)   (None, 64)                0         \n",
            "_________________________________________________________________\n",
            "decoder_output (Dense)       (None, 784)               50960     \n",
            "=================================================================\n",
            "Total params: 50,960\n",
            "Trainable params: 50,960\n",
            "Non-trainable params: 0\n",
            "_________________________________________________________________\n",
            "None\n",
            "WARNING:tensorflow:From /usr/local/lib/python3.6/dist-packages/keras/backend/tensorflow_backend.py:1033: The name tf.assign_add is deprecated. Please use tf.compat.v1.assign_add instead.\n",
            "\n",
            "WARNING:tensorflow:From /usr/local/lib/python3.6/dist-packages/keras/backend/tensorflow_backend.py:1020: The name tf.assign is deprecated. Please use tf.compat.v1.assign instead.\n",
            "\n",
            "WARNING:tensorflow:From /usr/local/lib/python3.6/dist-packages/keras/backend/tensorflow_backend.py:3005: The name tf.Session is deprecated. Please use tf.compat.v1.Session instead.\n",
            "\n",
            "Train on 60000 samples, validate on 10000 samples\n",
            "Epoch 1/10\n",
            "WARNING:tensorflow:From /usr/local/lib/python3.6/dist-packages/keras/backend/tensorflow_backend.py:190: The name tf.get_default_session is deprecated. Please use tf.compat.v1.get_default_session instead.\n",
            "\n",
            "WARNING:tensorflow:From /usr/local/lib/python3.6/dist-packages/keras/backend/tensorflow_backend.py:197: The name tf.ConfigProto is deprecated. Please use tf.compat.v1.ConfigProto instead.\n",
            "\n",
            "WARNING:tensorflow:From /usr/local/lib/python3.6/dist-packages/keras/backend/tensorflow_backend.py:207: The name tf.global_variables is deprecated. Please use tf.compat.v1.global_variables instead.\n",
            "\n",
            "WARNING:tensorflow:From /usr/local/lib/python3.6/dist-packages/keras/backend/tensorflow_backend.py:216: The name tf.is_variable_initialized is deprecated. Please use tf.compat.v1.is_variable_initialized instead.\n",
            "\n",
            "WARNING:tensorflow:From /usr/local/lib/python3.6/dist-packages/keras/backend/tensorflow_backend.py:223: The name tf.variables_initializer is deprecated. Please use tf.compat.v1.variables_initializer instead.\n",
            "\n",
            "60000/60000 [==============================] - 6s 97us/step - loss: 0.2000 - val_loss: 0.1349\n",
            "Epoch 2/10\n",
            "60000/60000 [==============================] - 6s 93us/step - loss: 0.1176 - val_loss: 0.1030\n",
            "Epoch 3/10\n",
            "60000/60000 [==============================] - 6s 92us/step - loss: 0.0953 - val_loss: 0.0869\n",
            "Epoch 4/10\n",
            "60000/60000 [==============================] - 6s 100us/step - loss: 0.0836 - val_loss: 0.0795\n",
            "Epoch 5/10\n",
            "60000/60000 [==============================] - 6s 105us/step - loss: 0.0787 - val_loss: 0.0765\n",
            "Epoch 6/10\n",
            "60000/60000 [==============================] - 6s 94us/step - loss: 0.0765 - val_loss: 0.0750\n",
            "Epoch 7/10\n",
            "60000/60000 [==============================] - 6s 96us/step - loss: 0.0753 - val_loss: 0.0742\n",
            "Epoch 8/10\n",
            "60000/60000 [==============================] - 6s 95us/step - loss: 0.0745 - val_loss: 0.0735\n",
            "Epoch 9/10\n",
            "60000/60000 [==============================] - 6s 95us/step - loss: 0.0741 - val_loss: 0.0732\n",
            "Epoch 10/10\n",
            "60000/60000 [==============================] - 6s 96us/step - loss: 0.0737 - val_loss: 0.0729\n"
          ],
          "name": "stdout"
        }
      ]
    },
    {
      "cell_type": "markdown",
      "metadata": {
        "id": "c9-VrqzS1qvp",
        "colab_type": "text"
      },
      "source": [
        "# Mostrar imágenes antes y después de pasar por el modelo\n",
        "\n",
        "---\n",
        "\n"
      ]
    },
    {
      "cell_type": "code",
      "metadata": {
        "id": "ltqfL4Hbh6-m",
        "colab_type": "code",
        "outputId": "8cae569b-5eae-41a0-a57b-0979536b29ea",
        "colab": {
          "base_uri": "https://localhost:8080/",
          "height": 194
        }
      },
      "source": [
        "# Display images with decoded\n",
        "\n",
        "\n",
        "def show_as_single_image(imgs,image_shape):\n",
        "  h,w=image_shape\n",
        "  n,c=imgs.shape\n",
        "  imgs = imgs.reshape((n, h,w))\n",
        "  imgs = imgs.swapaxes(1,2).reshape((n*w, h)).swapaxes(0,1)\n",
        "  imgs = (imgs * 255).astype(np.uint8)\n",
        "\n",
        "  plt.figure(figsize=(1*8,n*8),dpi=100)\n",
        "  plt.axis('off')\n",
        "  plt.imshow(imgs, interpolation='none', cmap='gray')\n",
        "  plt.tight_layout()\n",
        "\n",
        "num=16\n",
        "print(\"Original images\")\n",
        "show_as_single_image(x_test[:num],(28,28))\n",
        "print(\"Restored images\")\n",
        "show_as_single_image(x_decoded[:num],(28,28))\n"
      ],
      "execution_count": 0,
      "outputs": [
        {
          "output_type": "stream",
          "text": [
            "Original images\n",
            "Restored images\n"
          ],
          "name": "stdout"
        },
        {
          "output_type": "display_data",
          "data": {
            "image/png": "[encoded data removed]",
            "text/plain": [
              "<Figure size 800x12800 with 1 Axes>"
            ]
          },
          "metadata": {
            "tags": []
          }
        },
        {
          "output_type": "display_data",
          "data": {
            "image/png": "[encoded data removed]",
            "text/plain": [
              "<Figure size 800x12800 with 1 Axes>"
            ]
          },
          "metadata": {
            "tags": []
          }
        }
      ]
    },
    {
      "cell_type": "markdown",
      "metadata": {
        "id": "C16vvfFt1ipZ",
        "colab_type": "text"
      },
      "source": [
        "# Intentar generar nuevas muestras desde el espacio latente (no funciona, necesito usar [Autoencoders variacionales](https://blog.keras.io/building-autoencoders-in-keras.html) or GANs)\n",
        "\n"
      ]
    },
    {
      "cell_type": "markdown",
      "metadata": {
        "id": "IG42Ixps1iBv",
        "colab_type": "text"
      },
      "source": [
        ""
      ]
    },
    {
      "cell_type": "code",
      "metadata": {
        "id": "gvjDIMh70EwJ",
        "colab_type": "code",
        "outputId": "61cb9357-0dc3-4201-bb12-01af40a383cc",
        "colab": {
          "base_uri": "https://localhost:8080/",
          "height": 174
        }
      },
      "source": [
        "\n",
        "num_images=8\n",
        "random_latent_code = np.random.random_sample([num_images,latent_dim])\n",
        "\n",
        "random_images = decoder.predict(random_latent_code)\n",
        "\n",
        "print(random_images.shape)\n",
        "print(\"Randomly generated images\")\n",
        "show_as_single_image(random_images,(28,28))"
      ],
      "execution_count": 0,
      "outputs": [
        {
          "output_type": "stream",
          "text": [
            "(8, 784)\n",
            "Randomly generated images\n"
          ],
          "name": "stdout"
        },
        {
          "output_type": "display_data",
          "data": {
            "image/png": "[encoded data removed]",
            "text/plain": [
              "<Figure size 800x6400 with 1 Axes>"
            ]
          },
          "metadata": {
            "tags": []
          }
        }
      ]
    }
  ]
}