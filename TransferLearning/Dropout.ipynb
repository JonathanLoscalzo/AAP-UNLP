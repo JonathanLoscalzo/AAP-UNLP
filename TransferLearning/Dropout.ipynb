{
  "nbformat": 4,
  "nbformat_minor": 0,
  "metadata": {
    "colab": {
      "name": "Dropout",
      "provenance": [],
      "collapsed_sections": []
    },
    "kernelspec": {
      "name": "python3",
      "display_name": "Python 3"
    }
  },
  "cells": [
    {
      "cell_type": "code",
      "metadata": {
        "id": "2Wi3UKyamAYj",
        "colab_type": "code",
        "outputId": "fa954126-cc97-47d5-a2b3-ec7b80494225",
        "colab": {
          "base_uri": "https://localhost:8080/",
          "height": 485
        }
      },
      "source": [
        "import keras\n",
        "from keras.layers import Flatten,Conv2D,Dense,MaxPooling2D,InputLayer,Activation,GlobalAveragePooling2D, Input, Concatenate, Flatten,Dropout\n",
        "from keras import Model, Sequential\n",
        "\n",
        "\n",
        "input_shape=(32,32,3)\n",
        "classes=10\n",
        "\n",
        "model = Sequential()\n",
        "model.add(Conv2D(32,(3,3),activation=\"relu\",input_shape=input_shape))\n",
        "model.add(Flatten())\n",
        "model.add(Dense(64,activation=\"relu\"))\n",
        "# Agrego Dropout con probabilidad de 0.7\n",
        "# El parámetro de la clase Dropout se llama 'rate'.\n",
        "# 'rate' no es la probabilidad de _activar_, sino la de _desactivar_.\n",
        "# Por eso envío 1-p, donde p es la probabilidad de activar deseada\n",
        "model.add(Dropout(1-0.7))\n",
        "model.add(Dense(128,activation=\"relu\"))\n",
        "# Agrego Dropout con probabilidad de 0.5\n",
        "model.add(Dropout(1-0.5))\n",
        "model.add(Dense(classes,activation=\"softmax\"))\n",
        "print(model.summary())\n"
      ],
      "execution_count": 0,
      "outputs": [
        {
          "output_type": "stream",
          "text": [
            "Model: \"sequential_4\"\n",
            "_________________________________________________________________\n",
            "Layer (type)                 Output Shape              Param #   \n",
            "=================================================================\n",
            "conv2d_4 (Conv2D)            (None, 30, 30, 32)        896       \n",
            "_________________________________________________________________\n",
            "flatten_3 (Flatten)          (None, 28800)             0         \n",
            "_________________________________________________________________\n",
            "dense_5 (Dense)              (None, 64)                1843264   \n",
            "_________________________________________________________________\n",
            "dropout_3 (Dropout)          (None, 64)                0         \n",
            "_________________________________________________________________\n",
            "dense_6 (Dense)              (None, 128)               8320      \n",
            "_________________________________________________________________\n",
            "dropout_4 (Dropout)          (None, 128)               0         \n",
            "_________________________________________________________________\n",
            "dense_7 (Dense)              (None, 10)                1290      \n",
            "=================================================================\n",
            "Total params: 1,853,770\n",
            "Trainable params: 1,853,770\n",
            "Non-trainable params: 0\n",
            "_________________________________________________________________\n",
            "None\n"
          ],
          "name": "stdout"
        }
      ]
    }
  ]
}