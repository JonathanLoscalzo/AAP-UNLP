{
  "nbformat": 4,
  "nbformat_minor": 0,
  "metadata": {
    "colab": {
      "name": "MobileNet Definition",
      "provenance": []
    },
    "kernelspec": {
      "name": "python3",
      "display_name": "Python 3"
    }
  },
  "cells": [
    {
      "cell_type": "code",
      "metadata": {
        "id": "OpMVac-3r47W",
        "colab_type": "code",
        "colab": {}
      },
      "source": [
        "import keras\n",
        "from keras.layers import Flatten,Conv2D,Dense,MaxPooling2D,InputLayer,Activation,GlobalAveragePooling2D,DepthwiseConv2D,SeparableConv2D"
      ],
      "execution_count": 0,
      "outputs": []
    },
    {
      "cell_type": "code",
      "metadata": {
        "id": "Lj1vVOybuLi7",
        "colab_type": "code",
        "outputId": "204d550f-1533-4de7-e777-84fe29ce3137",
        "colab": {
          "base_uri": "https://localhost:8080/",
          "height": 891
        }
      },
      "source": [
        "# El parámetro depth_multiplier, no explicado en clase, reduce la cantidad de filtros de salida de la capa\n",
        "def block(n_filters,n_conv,depth_multiplier):\n",
        "  layers=[]\n",
        "  for i in range(n_conv):\n",
        "    layers.append(SeparableConv2D(n_filters,(3,3),depth_multiplier=depth_multiplier, activation=\"relu\", padding=\"same\"))\n",
        "  layers.append(SeparableConv2D(n_filters*2,(3,3), depth_multiplier=depth_multiplier, activation=\"relu\", padding=\"same\", strides=(2,2)))\n",
        "  return layers\n",
        "\n",
        "\n",
        "def MobileNet(classes,input_shape,depth_multiplier=1):\n",
        "  model = keras.Sequential()\n",
        "  model.add(InputLayer(input_shape))\n",
        "  model.add(Conv2D(32,(3,3), activation=\"relu\", padding=\"same\"))\n",
        "  for n_filters,n_conv in zip([64,128,256,512],[1,1,1,5]): \n",
        "    layers=block(n_filters,n_conv,depth_multiplier)    \n",
        "    for layer in layers:\n",
        "      model.add(layer)\n",
        "\n",
        "  model.add(SeparableConv2D(1024,(3,3), depth_multiplier=depth_multiplier, activation=\"relu\", padding=\"same\"))\n",
        "  model.add(GlobalAveragePooling2D())\n",
        "  model.add(Dense(classes))\n",
        "  model.add(Activation('softmax'))\n",
        "  return model\n",
        "\n",
        "input_shape=(32,32,3)\n",
        "classes=10\n",
        "depth_multiplier=1\n",
        "\n",
        "model = MobileNet(classes,input_shape,depth_multiplier)\n",
        "print(model.summary())"
      ],
      "execution_count": 0,
      "outputs": [
        {
          "output_type": "stream",
          "text": [
            "Model: \"sequential_8\"\n",
            "_________________________________________________________________\n",
            "Layer (type)                 Output Shape              Param #   \n",
            "=================================================================\n",
            "conv2d_11 (Conv2D)           (None, 32, 32, 32)        896       \n",
            "_________________________________________________________________\n",
            "separable_conv2d_25 (Separab (None, 32, 32, 64)        2400      \n",
            "_________________________________________________________________\n",
            "separable_conv2d_26 (Separab (None, 16, 16, 128)       17664     \n",
            "_________________________________________________________________\n",
            "separable_conv2d_27 (Separab (None, 16, 16, 128)       17664     \n",
            "_________________________________________________________________\n",
            "separable_conv2d_28 (Separab (None, 8, 8, 256)         68096     \n",
            "_________________________________________________________________\n",
            "separable_conv2d_29 (Separab (None, 8, 8, 256)         68096     \n",
            "_________________________________________________________________\n",
            "separable_conv2d_30 (Separab (None, 4, 4, 512)         267264    \n",
            "_________________________________________________________________\n",
            "separable_conv2d_31 (Separab (None, 4, 4, 512)         267264    \n",
            "_________________________________________________________________\n",
            "separable_conv2d_32 (Separab (None, 4, 4, 512)         267264    \n",
            "_________________________________________________________________\n",
            "separable_conv2d_33 (Separab (None, 4, 4, 512)         267264    \n",
            "_________________________________________________________________\n",
            "separable_conv2d_34 (Separab (None, 4, 4, 512)         267264    \n",
            "_________________________________________________________________\n",
            "separable_conv2d_35 (Separab (None, 4, 4, 512)         267264    \n",
            "_________________________________________________________________\n",
            "separable_conv2d_36 (Separab (None, 2, 2, 1024)        1058816   \n",
            "_________________________________________________________________\n",
            "separable_conv2d_37 (Separab (None, 2, 2, 1024)        2116608   \n",
            "_________________________________________________________________\n",
            "global_average_pooling2d_3 ( (None, 1024)              0         \n",
            "_________________________________________________________________\n",
            "dense_3 (Dense)              (None, 10)                10250     \n",
            "_________________________________________________________________\n",
            "activation_2 (Activation)    (None, 10)                0         \n",
            "=================================================================\n",
            "Total params: 4,964,074\n",
            "Trainable params: 4,964,074\n",
            "Non-trainable params: 0\n",
            "_________________________________________________________________\n",
            "None\n"
          ],
          "name": "stdout"
        }
      ]
    },
    {
      "cell_type": "code",
      "metadata": {
        "id": "tUzFu7O3qUYR",
        "colab_type": "code",
        "colab": {}
      },
      "source": [
        "layers=[]\n",
        "  for i in range(n_conv):\n",
        "    layers.append(SeparableConv2D((3,3),depth_multiplier=1 activation=\"relu\", padding=\"same\")))\n",
        "    # layers.append(DepthwiseConv2D((3,3),depth_multiplier=1 activation=\"relu\", padding=\"same\"))\n",
        "    # layers.append(Conv2D(n_filters,(1,1), activation=\"relu\", padding=\"same\"))\n",
        "  layers.append(SeparableConv2D((3,3), depth_multiplier=2, activation=\"relu\", padding=\"same\", strides=(2,2)))\n",
        "  # layers.append(DepthwiseConv2D((3,3),depth_multiplier=1, activation=\"relu\", padding=\"same\", strides=(2,2)))\n",
        "  # layers.append(Conv2D(n_filters*2,(1,1), activation=\"relu\", padding=\"same\"))"
      ],
      "execution_count": 0,
      "outputs": []
    }
  ]
}