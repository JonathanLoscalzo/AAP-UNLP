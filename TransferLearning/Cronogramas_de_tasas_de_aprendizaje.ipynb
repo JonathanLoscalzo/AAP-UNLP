{
  "nbformat": 4,
  "nbformat_minor": 0,
  "metadata": {
    "colab": {
      "name": "Cronogramas de tasas de aprendizaje",
      "provenance": [],
      "collapsed_sections": []
    },
    "kernelspec": {
      "name": "python3",
      "display_name": "Python 3"
    }
  },
  "cells": [
    {
      "cell_type": "code",
      "metadata": {
        "id": "NlURKKohuLt-",
        "colab_type": "code",
        "outputId": "69b722d5-c9d7-4098-f62d-98272c87c5b2",
        "colab": {
          "base_uri": "https://localhost:8080/",
          "height": 485
        }
      },
      "source": [
        "\n",
        "# https://www.pyimagesearch.com/2019/07/29/cyclical-learning-rates-with-keras-and-deep-learning/\n",
        "# https://towardsdatascience.com/learning-rate-schedules-and-adaptive-learning-rate-methods-for-deep-learning-2c8f433990d1\n",
        "# https://www.pyimagesearch.com/2019/07/22/keras-learning-rate-schedules-and-decay/\n",
        "\n",
        "\n",
        "from __future__ import print_function\n",
        "import keras\n",
        "\n",
        "from keras.datasets import cifar10,mnist\n",
        "from keras.models import Sequential\n",
        "from keras.layers import Dense, Dropout, Activation, Flatten\n",
        "from keras.layers import Conv2D, MaxPooling2D\n",
        "from keras.optimizers import SGD\n",
        "import os\n",
        "import numpy as np\n",
        "\n",
        "# The data, split between train and test sets:\n",
        "(x_train, y_train), (x_test, y_test) = mnist.load_data()\n",
        "if len(x_train.shape)<4:\n",
        "  x_train=x_train[:,:,:,np.newaxis]\n",
        "  x_test=x_test[:,:,:,np.newaxis]\n",
        "num_classes=10\n",
        "\n",
        "\n",
        "model = Sequential(name=\"SimpleConv\")\n",
        "model.add(Conv2D(32, (3, 3), padding='same',\n",
        "                 input_shape=(28,28,1),activation=\"relu\",name=\"c1\"))\n",
        "model.add(MaxPooling2D(pool_size=(2, 2),name=\"mp1\"))\n",
        "model.add(Conv2D(64, (3, 3), strides=(2,2), padding='same',activation=\"relu\",name=\"c2\"))\n",
        "model.add(MaxPooling2D(pool_size=(2, 2),name=\"mp2\"))\n",
        "model.add(Flatten())\n",
        "model.add(Dense(512,activation=\"relu\",name=\"fc1\"))\n",
        "model.add(Dense(num_classes,name=\"fc2\",activation=\"softmax\"))\n",
        "\n",
        "print(model.summary())\n",
        "\n",
        "\n",
        "\n",
        "\n"
      ],
      "execution_count": 0,
      "outputs": [
        {
          "output_type": "stream",
          "text": [
            "Model: \"SimpleConv\"\n",
            "_________________________________________________________________\n",
            "Layer (type)                 Output Shape              Param #   \n",
            "=================================================================\n",
            "c1 (Conv2D)                  (None, 28, 28, 32)        320       \n",
            "_________________________________________________________________\n",
            "mp1 (MaxPooling2D)           (None, 14, 14, 32)        0         \n",
            "_________________________________________________________________\n",
            "c2 (Conv2D)                  (None, 7, 7, 64)          18496     \n",
            "_________________________________________________________________\n",
            "mp2 (MaxPooling2D)           (None, 3, 3, 64)          0         \n",
            "_________________________________________________________________\n",
            "flatten_7 (Flatten)          (None, 576)               0         \n",
            "_________________________________________________________________\n",
            "fc1 (Dense)                  (None, 512)               295424    \n",
            "_________________________________________________________________\n",
            "fc2 (Dense)                  (None, 10)                5130      \n",
            "=================================================================\n",
            "Total params: 319,370\n",
            "Trainable params: 319,370\n",
            "Non-trainable params: 0\n",
            "_________________________________________________________________\n",
            "None\n"
          ],
          "name": "stdout"
        }
      ]
    },
    {
      "cell_type": "code",
      "metadata": {
        "id": "ZHA2xQllv1hz",
        "colab_type": "code",
        "colab": {}
      },
      "source": [
        "from keras.callbacks import LearningRateScheduler\n",
        "\n",
        "\n",
        "class FixedLearningRate:\n",
        "  def __init__(self,lr):\n",
        "    self.lr=lr\n",
        "  def __call__(self,epoch):\n",
        "    return self.lr\n",
        "\n",
        "class HardcodedStepDecay:\n",
        "  def __init__(self):\n",
        "    pass\n",
        "  def __call__(self, epoch):\n",
        "    if epoch<20:\n",
        "      return 0.01\n",
        "    elif epoch <40:\n",
        "      return 0.001\n",
        "    else:\n",
        "      return 0.0001\n",
        "\n",
        "class StepDecay:\n",
        "  def __init__(self,initial_lr,decay):\n",
        "    self.lr=initial_lr\n",
        "    self.decay=decay\n",
        "  def __call__(self, epoch):\n",
        "    self.lr *= (1. / (1. + self.decay * epoch))\n",
        "    return self.lr\n",
        "\n",
        "\n"
      ],
      "execution_count": 0,
      "outputs": []
    },
    {
      "cell_type": "code",
      "metadata": {
        "id": "b1PA-ZOrPqAh",
        "colab_type": "code",
        "outputId": "9b686227-4eb1-477c-ee5d-84b7ed21ea8c",
        "colab": {
          "base_uri": "https://localhost:8080/",
          "height": 269
        }
      },
      "source": [
        "\n",
        "lr_scheduler=FixedLearningRate(5)\n",
        "lr_scheduler=HardcodedStepDecay()\n",
        "lr_scheduler=StepDecay(initial_lr=0.1,decay=0.001)\n",
        "\n",
        "\n",
        "def plot_lr_scheduler(lr_scheduler,epochs=200):\n",
        "  import matplotlib.pyplot as plt\n",
        "  x=np.arange(epochs)\n",
        "  y=np.zeros_like(x)\n",
        "  for i in range(epochs):\n",
        "    y[i]=lr_scheduler(float(i))\n",
        "  plt.plot(x,y)\n",
        "\n",
        "plot_lr_scheduler(lr_scheduler)\n",
        "\n",
        "\n"
      ],
      "execution_count": 0,
      "outputs": [
        {
          "output_type": "display_data",
          "data": {
            "image/png": "[encoded data removed]",
            "text/plain": [
              "<Figure size 432x288 with 1 Axes>"
            ]
          },
          "metadata": {
            "tags": []
          }
        }
      ]
    },
    {
      "cell_type": "code",
      "metadata": {
        "id": "H2sG_lOoR60k",
        "colab_type": "code",
        "colab": {}
      },
      "source": [
        "lr_callback=LearningRateScheduler()\n",
        "\n",
        "initial_lr=0.01\n",
        "opt = SGD(lr=initial_lr, momentum=0.9)\n",
        "model.compile(loss='sparse_categorical_crossentropy',\n",
        "              optimizer=opt,\n",
        "              metrics=['accuracy'])\n",
        "\n",
        "model.fit(x_train,y_train,batch_size=32,epochs=30,callbacks=[lr_callback])"
      ],
      "execution_count": 0,
      "outputs": []
    },
    {
      "cell_type": "code",
      "metadata": {
        "id": "EfX0GEkqONYW",
        "colab_type": "code",
        "colab": {}
      },
      "source": [
        "    "
      ],
      "execution_count": 0,
      "outputs": []
    }
  ]
}