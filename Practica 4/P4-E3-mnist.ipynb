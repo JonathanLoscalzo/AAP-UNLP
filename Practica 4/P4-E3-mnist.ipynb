{
 "cells": [
  {
   "cell_type": "markdown",
   "metadata": {},
   "source": [
    "Pruebe 5 modelos distintos, variando los siguientes hiperparámetros:\n",
    "- Cantidad de capas Conv\n",
    "- Cantidad de feature maps (filtros convolucionares)\n",
    "- Stride, padding y kernel_size de las convoluciones\n",
    "- Funciones de activación\n",
    "- Uso de capas Max Pooling."
   ]
  },
  {
   "cell_type": "code",
   "execution_count": 33,
   "metadata": {},
   "outputs": [
    {
     "name": "stdout",
     "output_type": "stream",
     "text": [
      "The autoreload extension is already loaded. To reload it, use:\n",
      "  %reload_ext autoreload\n"
     ]
    }
   ],
   "source": [
    "import numpy as np\n",
    "import tensorflow as tf\n",
    "import keras\n",
    "import numpy as np\n",
    "import os\n",
    "import seaborn as sns\n",
    "%load_ext autoreload\n",
    "%autoreload 2\n",
    "%matplotlib inline\n",
    "\n",
    "import matplotlib.pyplot as plt\n",
    "plt.rcParams['image.cmap'] = 'gray'\n",
    "from sklearn import metrics, preprocessing\n",
    "\n",
    "import AAPutils\n",
    "import utils"
   ]
  },
  {
   "cell_type": "code",
   "execution_count": 42,
   "metadata": {},
   "outputs": [],
   "source": [
    "from keras.datasets import mnist\n",
    "(X_train, y_train), (X_test, y_test) = mnist.load_data()"
   ]
  },
  {
   "cell_type": "code",
   "execution_count": 43,
   "metadata": {},
   "outputs": [],
   "source": [
    "scaler = utils.Rescaler()\n",
    "scaler.fit(X_train)\n",
    "X_train = scaler.transform(X_train)\n",
    "X_test = scaler.transform(X_test)"
   ]
  },
  {
   "cell_type": "code",
   "execution_count": 44,
   "metadata": {},
   "outputs": [],
   "source": [
    "X_train = X_train.reshape(-1, 28, 28, 1)\n",
    "X_test = X_test.reshape(-1, 28, 28, 1)"
   ]
  },
  {
   "cell_type": "code",
   "execution_count": 45,
   "metadata": {},
   "outputs": [],
   "source": [
    "classes = np.unique(y_train).size\n",
    "input_shape = X_train[0].shape"
   ]
  },
  {
   "cell_type": "markdown",
   "metadata": {},
   "source": [
    "Defining model"
   ]
  },
  {
   "cell_type": "code",
   "execution_count": 75,
   "metadata": {},
   "outputs": [
    {
     "name": "stdout",
     "output_type": "stream",
     "text": [
      "Model: \"sequential_27\"\n",
      "_________________________________________________________________\n",
      "Layer (type)                 Output Shape              Param #   \n",
      "=================================================================\n",
      "conv2d_29 (Conv2D)           (None, 26, 26, 10)        100       \n",
      "_________________________________________________________________\n",
      "max_pooling2d_8 (MaxPooling2 (None, 13, 13, 10)        0         \n",
      "_________________________________________________________________\n",
      "flatten_27 (Flatten)         (None, 1690)              0         \n",
      "_________________________________________________________________\n",
      "dense_35 (Dense)             (None, 10)                16910     \n",
      "=================================================================\n",
      "Total params: 17,010\n",
      "Trainable params: 17,010\n",
      "Non-trainable params: 0\n",
      "_________________________________________________________________\n"
     ]
    }
   ],
   "source": [
    "conv2d_layer = keras.layers.Conv2D(\n",
    "    10, # cant de filtros (?) \n",
    "    kernel_size=(3,3), \n",
    "    strides=(1,1),\n",
    "    padding='valid',\n",
    "    input_shape= input_shape,\n",
    "    activation='relu',\n",
    "#     data_format='channels_last'\n",
    ")\n",
    "\n",
    "max_pooling_layer = keras.layers.MaxPool2D(pool_size=(2, 2))\n",
    "avg_pooling_layer = keras.layers.AveragePooling2D()\n",
    "dropout_layer = keras.layers.Dropout(0.8)\n",
    "flatten_layer = keras.layers.Flatten()\n",
    "layer1 = keras.layers.Dense(10, activation='relu')\n",
    "output = keras.layers.Dense(classes, activation='softmax')\n",
    "\n",
    "model = keras.models.Sequential(\n",
    "    [\n",
    "        conv2d_layer,\n",
    "        max_pooling_layer,\n",
    "#         dropout_layer,\n",
    "        flatten_layer,\n",
    "#         layer1,\n",
    "        output,\n",
    "    ]\n",
    ")\n",
    "\n",
    "epochs = 1500\n",
    "\n",
    "model.compile(\n",
    "  optimizer= 'adam',\n",
    "  loss='sparse_categorical_crossentropy', \n",
    "  metrics=[\n",
    "      'accuracy', \n",
    "  ], \n",
    ")\n",
    "model.summary()"
   ]
  },
  {
   "cell_type": "code",
   "execution_count": 76,
   "metadata": {},
   "outputs": [
    {
     "name": "stdout",
     "output_type": "stream",
     "text": [
      "Train on 60000 samples, validate on 10000 samples\n",
      "Epoch 1/1500\n",
      " - 10s - loss: 0.2634 - accuracy: 0.9251 - val_loss: 0.1120 - val_accuracy: 0.9668\n",
      "Epoch 2/1500\n",
      " - 9s - loss: 0.0964 - accuracy: 0.9717 - val_loss: 0.0790 - val_accuracy: 0.9765\n",
      "Epoch 3/1500\n",
      " - 9s - loss: 0.0730 - accuracy: 0.9781 - val_loss: 0.0728 - val_accuracy: 0.9764\n",
      "Epoch 4/1500\n",
      " - 9s - loss: 0.0628 - accuracy: 0.9809 - val_loss: 0.0679 - val_accuracy: 0.9783\n",
      "Epoch 5/1500\n",
      " - 9s - loss: 0.0547 - accuracy: 0.9831 - val_loss: 0.0666 - val_accuracy: 0.9784\n",
      "Epoch 6/1500\n",
      " - 10s - loss: 0.0491 - accuracy: 0.9846 - val_loss: 0.0607 - val_accuracy: 0.9815\n",
      "Epoch 7/1500\n",
      " - 10s - loss: 0.0453 - accuracy: 0.9863 - val_loss: 0.0664 - val_accuracy: 0.9805\n",
      "Epoch 8/1500\n",
      " - 10s - loss: 0.0410 - accuracy: 0.9868 - val_loss: 0.0608 - val_accuracy: 0.9810\n",
      "Epoch 9/1500\n",
      " - 9s - loss: 0.0371 - accuracy: 0.9884 - val_loss: 0.0681 - val_accuracy: 0.9791\n",
      "Epoch 10/1500\n",
      " - 9s - loss: 0.0350 - accuracy: 0.9885 - val_loss: 0.0676 - val_accuracy: 0.9799\n",
      "Epoch 11/1500\n",
      " - 9s - loss: 0.0320 - accuracy: 0.9899 - val_loss: 0.0654 - val_accuracy: 0.9793\n",
      "Restoring model weights from the end of the best epoch\n",
      "Epoch 00011: early stopping\n"
     ]
    }
   ],
   "source": [
    "history = model.fit(\n",
    "    X_train, \n",
    "    y_train, \n",
    "    epochs=epochs, \n",
    "    batch_size=64, \n",
    "    verbose=2, \n",
    "    callbacks = [\n",
    "       keras.callbacks.callbacks.EarlyStopping(\n",
    "           monitor='val_loss', \n",
    "           patience=5,\n",
    "           verbose=2, \n",
    "           mode='auto', \n",
    "           restore_best_weights=True\n",
    "       )\n",
    "    ],\n",
    "    validation_data = (X_test, y_test),\n",
    "    #class_weight = weight # acá va esto? o el de train?\n",
    ")"
   ]
  },
  {
   "cell_type": "code",
   "execution_count": 77,
   "metadata": {},
   "outputs": [
    {
     "name": "stdout",
     "output_type": "stream",
     "text": [
      "              precision    recall  f1-score   support\n",
      "\n",
      "           0       0.97      0.99      0.98       980\n",
      "           1       0.99      1.00      0.99      1135\n",
      "           2       0.98      0.97      0.98      1032\n",
      "           3       0.99      0.97      0.98      1010\n",
      "           4       0.98      0.98      0.98       982\n",
      "           5       0.97      0.99      0.98       892\n",
      "           6       0.99      0.98      0.99       958\n",
      "           7       0.96      0.99      0.98      1028\n",
      "           8       0.98      0.97      0.98       974\n",
      "           9       0.98      0.96      0.97      1009\n",
      "\n",
      "    accuracy                           0.98     10000\n",
      "   macro avg       0.98      0.98      0.98     10000\n",
      "weighted avg       0.98      0.98      0.98     10000\n",
      "\n",
      "================================================================================\n",
      "[[ 972    0    2    0    0    1    1    3    1    0]\n",
      " [   0 1130    2    1    0    0    1    0    1    0]\n",
      " [   5    3 1005    1    3    0    2    8    5    0]\n",
      " [   2    0    4  981    0   11    0    5    6    1]\n",
      " [   1    0    1    0  966    0    1    2    1   10]\n",
      " [   1    0    1    2    0  885    2    0    0    1]\n",
      " [   9    2    0    0    1    4  941    0    1    0]\n",
      " [   0    2    7    0    1    0    0 1018    0    0]\n",
      " [   6    0    2    1    3    3    1    5  949    4]\n",
      " [   4    0    1    2    7    5    0   19    3  968]]\n",
      "================================================================================\n"
     ]
    },
    {
     "data": {
      "image/png": "[encoded data removed]",
      "text/plain": [
       "<Figure size 432x288 with 1 Axes>"
      ]
     },
     "metadata": {
      "needs_background": "light"
     },
     "output_type": "display_data"
    },
    {
     "name": "stdout",
     "output_type": "stream",
     "text": [
      "================================================================================\n"
     ]
    },
    {
     "data": {
      "image/png": "[encoded data removed]",
      "text/plain": [
       "<Figure size 432x288 with 1 Axes>"
      ]
     },
     "metadata": {
      "needs_background": "light"
     },
     "output_type": "display_data"
    }
   ],
   "source": [
    "print(metrics.classification_report(y_test, model.predict_classes(X_test)))\n",
    "print(80*\"=\")\n",
    "print(metrics.confusion_matrix(y_test, model.predict_classes(X_test)))\n",
    "print(80*\"=\")\n",
    "utils.plot_curve(history, \"accuracy\")\n",
    "print(80*\"=\")\n",
    "utils.plot_curve(history, \"loss\")"
   ]
  },
  {
   "cell_type": "code",
   "execution_count": null,
   "metadata": {},
   "outputs": [],
   "source": []
  }
 ],
 "metadata": {
  "kernelspec": {
   "display_name": "Python 3",
   "language": "python",
   "name": "python3"
  },
  "language_info": {
   "codemirror_mode": {
    "name": "ipython",
    "version": 3
   },
   "file_extension": ".py",
   "mimetype": "text/x-python",
   "name": "python",
   "nbconvert_exporter": "python",
   "pygments_lexer": "ipython3",
   "version": "3.6.8"
  }
 },
 "nbformat": 4,
 "nbformat_minor": 2
}
