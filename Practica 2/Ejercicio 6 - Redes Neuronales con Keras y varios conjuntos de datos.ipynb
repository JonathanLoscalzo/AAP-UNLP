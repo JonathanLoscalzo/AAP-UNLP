{
 "cells": [
  {
   "cell_type": "markdown",
   "metadata": {},
   "source": [
    "Ejercicio 6 - Redes Neuronales con Keras\n",
    "\n",
    "En este ejercicio, tu objetivo será entrenar modelos de Redes Neuronales utilizando Keras (y Tensorflow como backend) para familiarizarte con la librería.\n",
    "\n"
   ]
  },
  {
   "cell_type": "code",
   "execution_count": 1,
   "metadata": {},
   "outputs": [],
   "source": [
    "%load_ext autoreload\n",
    "%autoreload 2\n",
    "%matplotlib inline\n",
    "import matplotlib.pyplot as plt\n",
    "import utils\n",
    "import pandas as pd"
   ]
  },
  {
   "cell_type": "code",
   "execution_count": 2,
   "metadata": {},
   "outputs": [],
   "source": [
    "def plot_curve(history, ind):\n",
    "# summarize history for loss\n",
    "    plt.plot(history.history[ind])\n",
    "    # plt.plot(history.history['val_loss'])\n",
    "    plt.title(f'model {ind}')\n",
    "    plt.ylabel(ind)\n",
    "    plt.xlabel('epoch')\n",
    "    plt.legend(['train', 'test'], loc='upper left')\n",
    "    plt.show()"
   ]
  },
  {
   "cell_type": "code",
   "execution_count": 3,
   "metadata": {},
   "outputs": [
    {
     "data": {
      "text/html": [
       "<div>\n",
       "<style scoped>\n",
       "    .dataframe tbody tr th:only-of-type {\n",
       "        vertical-align: middle;\n",
       "    }\n",
       "\n",
       "    .dataframe tbody tr th {\n",
       "        vertical-align: top;\n",
       "    }\n",
       "\n",
       "    .dataframe thead th {\n",
       "        text-align: right;\n",
       "    }\n",
       "</style>\n",
       "<table border=\"1\" class=\"dataframe\">\n",
       "  <thead>\n",
       "    <tr style=\"text-align: right;\">\n",
       "      <th></th>\n",
       "      <th>accuracy</th>\n",
       "      <th>acc_epoca</th>\n",
       "      <th>loss</th>\n",
       "      <th>epocas</th>\n",
       "      <th>tasa</th>\n",
       "      <th>topologia</th>\n",
       "    </tr>\n",
       "    <tr>\n",
       "      <th>archivos</th>\n",
       "      <th></th>\n",
       "      <th></th>\n",
       "      <th></th>\n",
       "      <th></th>\n",
       "      <th></th>\n",
       "      <th></th>\n",
       "    </tr>\n",
       "  </thead>\n",
       "  <tbody>\n",
       "    <tr>\n",
       "      <td>2_clases_simple.csv</td>\n",
       "      <td>0.000000</td>\n",
       "      <td>0.0</td>\n",
       "      <td>0.000000</td>\n",
       "      <td>0.0</td>\n",
       "      <td>0.000</td>\n",
       "      <td>0.0</td>\n",
       "    </tr>\n",
       "    <tr>\n",
       "      <td>6_clases_dificil.csv</td>\n",
       "      <td>0.942000</td>\n",
       "      <td>990.0</td>\n",
       "      <td>0.180064</td>\n",
       "      <td>1000.0</td>\n",
       "      <td>0.001</td>\n",
       "      <td>provista por cátedra</td>\n",
       "    </tr>\n",
       "    <tr>\n",
       "      <td>circulos.csv</td>\n",
       "      <td>0.996667</td>\n",
       "      <td>861.0</td>\n",
       "      <td>0.093042</td>\n",
       "      <td>1000.0</td>\n",
       "      <td>0.001</td>\n",
       "      <td>provista por cátedra</td>\n",
       "    </tr>\n",
       "    <tr>\n",
       "      <td>diabetes.csv</td>\n",
       "      <td>0.838000</td>\n",
       "      <td>914.0</td>\n",
       "      <td>0.363445</td>\n",
       "      <td>1000.0</td>\n",
       "      <td>0.001</td>\n",
       "      <td>(10-relu),(5-tanh)</td>\n",
       "    </tr>\n",
       "    <tr>\n",
       "      <td>iris.csv</td>\n",
       "      <td>0.940000</td>\n",
       "      <td>835.0</td>\n",
       "      <td>0.265038</td>\n",
       "      <td>1000.0</td>\n",
       "      <td>0.001</td>\n",
       "      <td>provista por cátedra</td>\n",
       "    </tr>\n",
       "    <tr>\n",
       "      <td>moons_mis-scaled.csv</td>\n",
       "      <td>0.882500</td>\n",
       "      <td>793.0</td>\n",
       "      <td>0.282066</td>\n",
       "      <td>1000.0</td>\n",
       "      <td>0.001</td>\n",
       "      <td>provista por cátedra</td>\n",
       "    </tr>\n",
       "    <tr>\n",
       "      <td>moons.csv</td>\n",
       "      <td>0.830000</td>\n",
       "      <td>965.0</td>\n",
       "      <td>0.397881</td>\n",
       "      <td>1000.0</td>\n",
       "      <td>0.001</td>\n",
       "      <td>provista por cátedra</td>\n",
       "    </tr>\n",
       "  </tbody>\n",
       "</table>\n",
       "</div>"
      ],
      "text/plain": [
       "                       accuracy   acc_epoca      loss   epocas   tasa  \\\n",
       "archivos                                                                \n",
       "2_clases_simple.csv    0.000000         0.0  0.000000      0.0  0.000   \n",
       "6_clases_dificil.csv   0.942000       990.0  0.180064   1000.0  0.001   \n",
       "circulos.csv           0.996667       861.0  0.093042   1000.0  0.001   \n",
       "diabetes.csv           0.838000       914.0  0.363445   1000.0  0.001   \n",
       "iris.csv               0.940000       835.0  0.265038   1000.0  0.001   \n",
       "moons_mis-scaled.csv   0.882500       793.0  0.282066   1000.0  0.001   \n",
       "moons.csv              0.830000       965.0  0.397881   1000.0  0.001   \n",
       "\n",
       "                                 topologia  \n",
       "archivos                                    \n",
       "2_clases_simple.csv                    0.0  \n",
       "6_clases_dificil.csv  provista por cátedra  \n",
       "circulos.csv          provista por cátedra  \n",
       "diabetes.csv            (10-relu),(5-tanh)  \n",
       "iris.csv              provista por cátedra  \n",
       "moons_mis-scaled.csv  provista por cátedra  \n",
       "moons.csv             provista por cátedra  "
      ]
     },
     "execution_count": 3,
     "metadata": {},
     "output_type": "execute_result"
    }
   ],
   "source": [
    "rtas = pd.read_csv('ejercicio6.csv')\n",
    "rtas = rtas.fillna(0).set_index('archivos')\n",
    "rtas"
   ]
  },
  {
   "cell_type": "markdown",
   "metadata": {},
   "source": [
    "# Entrena un modelo de Redes Neuronales con Keras para varios datasets\n",
    "\n",
    "\n",
    "\n",
    "Podés elegir el dataset comentando/descomentando las líneas 9 a 17. Comentá todos los datasets salvo el que quieras usar.\n",
    "\n",
    "Intenta obtener una buena performance en todos los casos. Prueba activando o no la normalización (últimas líneas) ¿Qué datasets no puede aprender el modelo?"
   ]
  },
  {
   "cell_type": "code",
   "execution_count": 4,
   "metadata": {},
   "outputs": [],
   "source": [
    "import tensorflow as tf\n",
    "import keras\n",
    "import numpy as np\n",
    "import utils \n",
    "import os\n",
    "import seaborn as sns"
   ]
  },
  {
   "cell_type": "code",
   "execution_count": 5,
   "metadata": {},
   "outputs": [],
   "source": [
    "# Selección del dataset; descomenta el que quieras usar\n",
    "# Datasets en 2D\n",
    "#dataset = \"2_clases_simple.csv\"\n",
    "# dataset = \"6_clases_dificil.csv\"\n",
    "#dataset = \"moons.csv\"\n",
    "#dataset = \"moons_mis-scaled.csv\"\n",
    "dataset = \"circulos.csv\"\n",
    "\n",
    "# Dataset con más de 2 dimensiones\n",
    "# dataset = \"iris.csv\"\n",
    "#dataset = \"diabetes.csv\"\n",
    "\n",
    "# Carga del dataset\n",
    "dataset_path=os.path.join(\"datasets_clasificacion\",dataset)\n",
    "data=np.loadtxt(open(dataset_path, \"rb\"), delimiter=\",\", skiprows=1)\n",
    "x,y=data[:,0:-1],data[:,-1]\n",
    "# cantidad de ejemplos y dimension de entrada\n",
    "n,d_in=x.shape\n",
    "# calcula la cantidad de clases\n",
    "classes=int(y.max()+1)"
   ]
  },
  {
   "cell_type": "code",
   "execution_count": 6,
   "metadata": {},
   "outputs": [
    {
     "name": "stdout",
     "output_type": "stream",
     "text": [
      "Información del conjunto de datos:\n",
      "Ejemplos: 300\n",
      "Variables de entrada: 2\n",
      "Cantidad de clases: 2\n"
     ]
    }
   ],
   "source": [
    "print(\"Información del conjunto de datos:\")\n",
    "print(f\"Ejemplos: {n}\")\n",
    "print(f\"Variables de entrada: {d_in}\")\n",
    "print(f\"Cantidad de clases: {classes}\")"
   ]
  },
  {
   "cell_type": "code",
   "execution_count": 7,
   "metadata": {},
   "outputs": [],
   "source": [
    "\n",
    "# Normalizo las variables de entrada\n",
    "for i in range(d_in):\n",
    "    x[:,i]=(x[:,i]-x[:,i].mean())/x[:,i].std()\n"
   ]
  },
  {
   "cell_type": "code",
   "execution_count": 8,
   "metadata": {},
   "outputs": [
    {
     "name": "stdout",
     "output_type": "stream",
     "text": [
      "Inicialización aleatoria del modelo (podes volver a correr esta celda para obtener otros resultados)\n",
      "WARNING:tensorflow:From /home/jloscalzo/.local/lib/python3.6/site-packages/keras/backend/tensorflow_backend.py:66: The name tf.get_default_graph is deprecated. Please use tf.compat.v1.get_default_graph instead.\n",
      "\n",
      "WARNING:tensorflow:From /home/jloscalzo/.local/lib/python3.6/site-packages/keras/backend/tensorflow_backend.py:541: The name tf.placeholder is deprecated. Please use tf.compat.v1.placeholder instead.\n",
      "\n",
      "WARNING:tensorflow:From /home/jloscalzo/.local/lib/python3.6/site-packages/keras/backend/tensorflow_backend.py:4432: The name tf.random_uniform is deprecated. Please use tf.random.uniform instead.\n",
      "\n"
     ]
    }
   ],
   "source": [
    "# Creación del modelo inicial\n",
    "print(\"Inicialización aleatoria del modelo (podes volver a correr esta celda para obtener otros resultados)\")\n",
    "\n",
    "# input_shape solo en la primer capa\n",
    "# Capa con 3 salidas, activación relu\n",
    "layer1 = keras.layers.Dense(\n",
    "    10, \n",
    "    input_shape=(d_in,), \n",
    "    activation='relu')\n",
    "\n",
    "# Capa con 5 salidas, activación tanh\n",
    "layer2 = keras.layers.Dense(\n",
    "    5, \n",
    "    #input_shape=(d_in,),\n",
    "    activation='tanh'\n",
    ")\n",
    "\n",
    "#la ultima capa si o si tiene que tener tantas salidas como clases, y softmax \n",
    "layer3 = keras.layers.Dense(classes, activation='softmax')\n",
    "\n",
    "# Creo un modelo logístico\n",
    "modelo = keras.Sequential([\n",
    "    layer1,\n",
    "    layer2, \n",
    "    layer3\n",
    "   ])"
   ]
  },
  {
   "cell_type": "code",
   "execution_count": 9,
   "metadata": {},
   "outputs": [
    {
     "name": "stdout",
     "output_type": "stream",
     "text": [
      "WARNING:tensorflow:From /home/jloscalzo/.local/lib/python3.6/site-packages/keras/backend/tensorflow_backend.py:3005: The name tf.Session is deprecated. Please use tf.compat.v1.Session instead.\n",
      "\n",
      "WARNING:tensorflow:From /home/jloscalzo/.local/lib/python3.6/site-packages/keras/backend/tensorflow_backend.py:190: The name tf.get_default_session is deprecated. Please use tf.compat.v1.get_default_session instead.\n",
      "\n"
     ]
    },
    {
     "data": {
      "image/png": "[encoded data removed]",
      "text/plain": [
       "<Figure size 432x288 with 2 Axes>"
      ]
     },
     "metadata": {
      "needs_background": "light"
     },
     "output_type": "display_data"
    }
   ],
   "source": [
    "# visualización del modelo inicial (si hay solo 2 variables de entrada)\n",
    "if d_in==2:\n",
    "    utils.plot_regresion_logistica2D(modelo,x,y,title=f\"Modelo inicial\",detail=0.05)"
   ]
  },
  {
   "cell_type": "code",
   "execution_count": 10,
   "metadata": {},
   "outputs": [
    {
     "name": "stdout",
     "output_type": "stream",
     "text": [
      "WARNING:tensorflow:From /home/jloscalzo/.local/lib/python3.6/site-packages/keras/optimizers.py:793: The name tf.train.Optimizer is deprecated. Please use tf.compat.v1.train.Optimizer instead.\n",
      "\n",
      "WARNING:tensorflow:From /home/jloscalzo/.local/lib/python3.6/site-packages/tensorflow/python/ops/math_grad.py:1250: add_dispatch_support.<locals>.wrapper (from tensorflow.python.ops.array_ops) is deprecated and will be removed in a future version.\n",
      "Instructions for updating:\n",
      "Use tf.where in 2.0, which has the same broadcast rule as np.where\n"
     ]
    }
   ],
   "source": [
    "\n",
    "alpha = 0.001\n",
    "epocas = 1000\n",
    "\n",
    "modelo.compile(\n",
    "  optimizer=keras.optimizers.SGD(lr=alpha), \n",
    "  loss='sparse_categorical_crossentropy', \n",
    "  # metricas para ir calculando en cada iteracion o batch \n",
    "  # Agregamos el accuracy del modelo\n",
    "  metrics=['accuracy'], \n",
    ")\n",
    "\n",
    "# Entrenamiento del modelo\n",
    "history = modelo.fit(x,y,epochs=epocas,batch_size=16, verbose=0)"
   ]
  },
  {
   "cell_type": "code",
   "execution_count": 11,
   "metadata": {},
   "outputs": [
    {
     "data": {
      "image/png": "[encoded data removed]",
      "text/plain": [
       "<Figure size 432x288 with 2 Axes>"
      ]
     },
     "metadata": {
      "needs_background": "light"
     },
     "output_type": "display_data"
    }
   ],
   "source": [
    "# visualización del modelo final (si hay solo 2 variables de entrada)\n",
    "if d_in==2:\n",
    "    utils.plot_regresion_logistica2D(modelo,x,y,title=f\"Modelo Final\",detail=0.05)\n",
    "    "
   ]
  },
  {
   "cell_type": "code",
   "execution_count": 12,
   "metadata": {},
   "outputs": [
    {
     "data": {
      "image/png": "[encoded data removed]",
      "text/plain": [
       "<Figure size 432x288 with 1 Axes>"
      ]
     },
     "metadata": {
      "needs_background": "light"
     },
     "output_type": "display_data"
    }
   ],
   "source": [
    "plot_curve(history, 'loss')"
   ]
  },
  {
   "cell_type": "code",
   "execution_count": 13,
   "metadata": {},
   "outputs": [
    {
     "data": {
      "image/png": "[encoded data removed]",
      "text/plain": [
       "<Figure size 432x288 with 1 Axes>"
      ]
     },
     "metadata": {
      "needs_background": "light"
     },
     "output_type": "display_data"
    }
   ],
   "source": [
    "plot_curve(history, 'acc')"
   ]
  },
  {
   "cell_type": "code",
   "execution_count": 16,
   "metadata": {},
   "outputs": [
    {
     "data": {
      "text/plain": [
       "(967, 0.9966666666666667)"
      ]
     },
     "execution_count": 16,
     "metadata": {},
     "output_type": "execute_result"
    }
   ],
   "source": [
    "acc = pd.Series(history.history['acc'])\n",
    "acc.idxmax(), acc.max()"
   ]
  },
  {
   "cell_type": "code",
   "execution_count": 17,
   "metadata": {},
   "outputs": [],
   "source": [
    "loss = pd.Series(history.history['loss'])\n",
    "change_loss = loss.pct_change()\n",
    "mean_change_loss = change_loss.mean()"
   ]
  },
  {
   "cell_type": "code",
   "execution_count": 18,
   "metadata": {},
   "outputs": [
    {
     "data": {
      "text/plain": [
       "(0.11031762520472209, 0.10297941893339158, 999)"
      ]
     },
     "execution_count": 18,
     "metadata": {},
     "output_type": "execute_result"
    }
   ],
   "source": [
    "loss.iloc[acc.idxmax()], loss.min(), loss.idxmin()"
   ]
  },
  {
   "cell_type": "code",
   "execution_count": 19,
   "metadata": {},
   "outputs": [
    {
     "data": {
      "text/plain": [
       " accuracy               0.996667\n",
       " acc_epoca                   967\n",
       " loss                   0.110318\n",
       " epocas                     1000\n",
       " tasa                      0.001\n",
       " topologia    (10-relu),(5-tanh)\n",
       "Name: circulos.csv, dtype: object"
      ]
     },
     "execution_count": 19,
     "metadata": {},
     "output_type": "execute_result"
    }
   ],
   "source": [
    "rtas.loc[dataset] = acc.max(), acc.idxmax(), loss.iloc[acc.idxmax()], epocas, alpha, '(10-relu),(5-tanh)'\n",
    "rtas.loc[dataset]"
   ]
  },
  {
   "cell_type": "code",
   "execution_count": 229,
   "metadata": {},
   "outputs": [
    {
     "data": {
      "text/html": [
       "<div>\n",
       "<style scoped>\n",
       "    .dataframe tbody tr th:only-of-type {\n",
       "        vertical-align: middle;\n",
       "    }\n",
       "\n",
       "    .dataframe tbody tr th {\n",
       "        vertical-align: top;\n",
       "    }\n",
       "\n",
       "    .dataframe thead th {\n",
       "        text-align: right;\n",
       "    }\n",
       "</style>\n",
       "<table border=\"1\" class=\"dataframe\">\n",
       "  <thead>\n",
       "    <tr style=\"text-align: right;\">\n",
       "      <th></th>\n",
       "      <th>accuracy</th>\n",
       "      <th>acc_epoca</th>\n",
       "      <th>loss</th>\n",
       "      <th>epocas</th>\n",
       "      <th>tasa</th>\n",
       "      <th>topologia</th>\n",
       "    </tr>\n",
       "    <tr>\n",
       "      <th>archivos</th>\n",
       "      <th></th>\n",
       "      <th></th>\n",
       "      <th></th>\n",
       "      <th></th>\n",
       "      <th></th>\n",
       "      <th></th>\n",
       "    </tr>\n",
       "  </thead>\n",
       "  <tbody>\n",
       "    <tr>\n",
       "      <td>2_clases_simple.csv</td>\n",
       "      <td>0.000000</td>\n",
       "      <td>0.0</td>\n",
       "      <td>0.000000</td>\n",
       "      <td>0.0</td>\n",
       "      <td>0.000</td>\n",
       "      <td>0</td>\n",
       "    </tr>\n",
       "    <tr>\n",
       "      <td>6_clases_dificil.csv</td>\n",
       "      <td>0.942000</td>\n",
       "      <td>990.0</td>\n",
       "      <td>0.180064</td>\n",
       "      <td>1000.0</td>\n",
       "      <td>0.001</td>\n",
       "      <td>provista por cátedra</td>\n",
       "    </tr>\n",
       "    <tr>\n",
       "      <td>circulos.csv</td>\n",
       "      <td>0.996667</td>\n",
       "      <td>861.0</td>\n",
       "      <td>0.093042</td>\n",
       "      <td>1000.0</td>\n",
       "      <td>0.001</td>\n",
       "      <td>provista por cátedra</td>\n",
       "    </tr>\n",
       "    <tr>\n",
       "      <td>diabetes.csv</td>\n",
       "      <td>0.838000</td>\n",
       "      <td>914.0</td>\n",
       "      <td>0.363445</td>\n",
       "      <td>1000.0</td>\n",
       "      <td>0.001</td>\n",
       "      <td>(10-relu),(5-tanh)</td>\n",
       "    </tr>\n",
       "    <tr>\n",
       "      <td>iris.csv</td>\n",
       "      <td>0.940000</td>\n",
       "      <td>835.0</td>\n",
       "      <td>0.265038</td>\n",
       "      <td>1000.0</td>\n",
       "      <td>0.001</td>\n",
       "      <td>provista por cátedra</td>\n",
       "    </tr>\n",
       "    <tr>\n",
       "      <td>moons_mis-scaled.csv</td>\n",
       "      <td>0.882500</td>\n",
       "      <td>793.0</td>\n",
       "      <td>0.282066</td>\n",
       "      <td>1000.0</td>\n",
       "      <td>0.001</td>\n",
       "      <td>provista por cátedra</td>\n",
       "    </tr>\n",
       "    <tr>\n",
       "      <td>moons.csv</td>\n",
       "      <td>0.830000</td>\n",
       "      <td>965.0</td>\n",
       "      <td>0.397881</td>\n",
       "      <td>1000.0</td>\n",
       "      <td>0.001</td>\n",
       "      <td>provista por cátedra</td>\n",
       "    </tr>\n",
       "  </tbody>\n",
       "</table>\n",
       "</div>"
      ],
      "text/plain": [
       "                       accuracy   acc_epoca      loss   epocas   tasa  \\\n",
       "archivos                                                                \n",
       "2_clases_simple.csv    0.000000         0.0  0.000000      0.0  0.000   \n",
       "6_clases_dificil.csv   0.942000       990.0  0.180064   1000.0  0.001   \n",
       "circulos.csv           0.996667       861.0  0.093042   1000.0  0.001   \n",
       "diabetes.csv           0.838000       914.0  0.363445   1000.0  0.001   \n",
       "iris.csv               0.940000       835.0  0.265038   1000.0  0.001   \n",
       "moons_mis-scaled.csv   0.882500       793.0  0.282066   1000.0  0.001   \n",
       "moons.csv              0.830000       965.0  0.397881   1000.0  0.001   \n",
       "\n",
       "                                 topologia  \n",
       "archivos                                    \n",
       "2_clases_simple.csv                      0  \n",
       "6_clases_dificil.csv  provista por cátedra  \n",
       "circulos.csv          provista por cátedra  \n",
       "diabetes.csv            (10-relu),(5-tanh)  \n",
       "iris.csv              provista por cátedra  \n",
       "moons_mis-scaled.csv  provista por cátedra  \n",
       "moons.csv             provista por cátedra  "
      ]
     },
     "execution_count": 229,
     "metadata": {},
     "output_type": "execute_result"
    }
   ],
   "source": [
    "rtas"
   ]
  },
  {
   "cell_type": "markdown",
   "metadata": {},
   "source": [
    "- dataset 6 clases-dificil: el problema no es linealmente separable en todos los casos. Aunque puede separar gran parte de las clases correctamente. (una matrix de confusión vendría bien para comprobar)\n",
    "\n",
    "- dataset moons: \n",
    "\n",
    "- dataset moons mis-scaled:\n",
    "\n",
    "- dataset circulo: el problema no era linealmente separable. el problema queda resuelto con una buena performance comparado a la solución de 1 sola capa.   ( 99 % en epoca 800 aprox. )\n",
    "\n",
    "- dataset iris: mejoró un poco el accuracy con menos épocas.\n",
    "\n",
    "- dataset diabetes: mejoró un poco la performance, pero le cambié un poco la capa hidden 1. (le agregué más neuronas)\n",
    "    "
   ]
  },
  {
   "cell_type": "code",
   "execution_count": 230,
   "metadata": {},
   "outputs": [],
   "source": [
    "# guardamos las respuestas: \n",
    "rtas.to_csv('ejercicio6.csv')"
   ]
  },
  {
   "cell_type": "code",
   "execution_count": null,
   "metadata": {},
   "outputs": [],
   "source": []
  }
 ],
 "metadata": {
  "kernelspec": {
   "display_name": "Python 3",
   "language": "python",
   "name": "python3"
  },
  "language_info": {
   "codemirror_mode": {
    "name": "ipython",
    "version": 3
   },
   "file_extension": ".py",
   "mimetype": "text/x-python",
   "name": "python",
   "nbconvert_exporter": "python",
   "pygments_lexer": "ipython3",
   "version": "3.6.8"
  }
 },
 "nbformat": 4,
 "nbformat_minor": 2
}
