{
 "cells": [
  {
   "cell_type": "markdown",
   "metadata": {},
   "source": [
    "Ejercicio 5 - Regresion Logística con Keras\n",
    "\n",
    "En este ejercicio, tu objetivo será entrenar modelos de Regresión Logística utilizando Keras (y Tensorflow como backend) para familiarizarte con la librería.\n",
    "\n"
   ]
  },
  {
   "cell_type": "code",
   "execution_count": 16,
   "metadata": {},
   "outputs": [
    {
     "name": "stdout",
     "output_type": "stream",
     "text": [
      "The autoreload extension is already loaded. To reload it, use:\n",
      "  %reload_ext autoreload\n"
     ]
    }
   ],
   "source": [
    "%load_ext autoreload\n",
    "%autoreload 2\n",
    "%matplotlib inline\n",
    "import matplotlib.pyplot as plt\n",
    "import utils\n",
    "import pandas as pd"
   ]
  },
  {
   "cell_type": "markdown",
   "metadata": {},
   "source": [
    "# Entrena un modelo de Regresión Logística con Keras para varios datasets\n",
    "\n",
    "\n",
    "\n",
    "Podés elegir el dataset comentando/descomentando las líneas 9 a 17. Comentá todos los datasets salvo el que quieras usar.\n",
    "\n",
    "Intenta obtener una buena performance en todos los casos. Prueba activando o no la normalización (últimas líneas) ¿Qué datasets no puede aprender el modelo?"
   ]
  },
  {
   "cell_type": "code",
   "execution_count": 17,
   "metadata": {},
   "outputs": [],
   "source": [
    "import tensorflow as tf\n",
    "import keras\n",
    "import numpy as np\n",
    "import utils \n",
    "import os\n",
    "import matplotlib.pyplot as plt"
   ]
  },
  {
   "cell_type": "code",
   "execution_count": 18,
   "metadata": {},
   "outputs": [],
   "source": [
    "def plot_curve(history, ind):\n",
    "# summarize history for loss\n",
    "    plt.plot(history.history[ind])\n",
    "    # plt.plot(history.history['val_loss'])\n",
    "    plt.title(f'model {ind}')\n",
    "    plt.ylabel(ind)\n",
    "    plt.xlabel('epoch')\n",
    "    plt.legend(['train', 'test'], loc='upper left')\n",
    "    plt.show()"
   ]
  },
  {
   "cell_type": "code",
   "execution_count": 19,
   "metadata": {},
   "outputs": [
    {
     "data": {
      "text/html": [
       "<div>\n",
       "<style scoped>\n",
       "    .dataframe tbody tr th:only-of-type {\n",
       "        vertical-align: middle;\n",
       "    }\n",
       "\n",
       "    .dataframe tbody tr th {\n",
       "        vertical-align: top;\n",
       "    }\n",
       "\n",
       "    .dataframe thead th {\n",
       "        text-align: right;\n",
       "    }\n",
       "</style>\n",
       "<table border=\"1\" class=\"dataframe\">\n",
       "  <thead>\n",
       "    <tr style=\"text-align: right;\">\n",
       "      <th></th>\n",
       "      <th>entrada</th>\n",
       "      <th>clases</th>\n",
       "      <th>accuracy</th>\n",
       "      <th>acc_epoca</th>\n",
       "      <th>loss</th>\n",
       "      <th>epocas</th>\n",
       "      <th>tasa</th>\n",
       "    </tr>\n",
       "    <tr>\n",
       "      <th>archivos</th>\n",
       "      <th></th>\n",
       "      <th></th>\n",
       "      <th></th>\n",
       "      <th></th>\n",
       "      <th></th>\n",
       "      <th></th>\n",
       "      <th></th>\n",
       "    </tr>\n",
       "  </thead>\n",
       "  <tbody>\n",
       "    <tr>\n",
       "      <td>2_clases_simple.csv</td>\n",
       "      <td>2.0</td>\n",
       "      <td>2.0</td>\n",
       "      <td>1.000000</td>\n",
       "      <td>14.0</td>\n",
       "      <td>0.239253</td>\n",
       "      <td>1000.0</td>\n",
       "      <td>0.001</td>\n",
       "    </tr>\n",
       "    <tr>\n",
       "      <td>6_clases_dificil.csv</td>\n",
       "      <td>2.0</td>\n",
       "      <td>6.0</td>\n",
       "      <td>0.934000</td>\n",
       "      <td>956.0</td>\n",
       "      <td>0.396438</td>\n",
       "      <td>1000.0</td>\n",
       "      <td>0.001</td>\n",
       "    </tr>\n",
       "    <tr>\n",
       "      <td>circulos.csv</td>\n",
       "      <td>2.0</td>\n",
       "      <td>2.0</td>\n",
       "      <td>0.536667</td>\n",
       "      <td>198.0</td>\n",
       "      <td>0.693204</td>\n",
       "      <td>1000.0</td>\n",
       "      <td>0.001</td>\n",
       "    </tr>\n",
       "    <tr>\n",
       "      <td>diabetes.csv</td>\n",
       "      <td>8.0</td>\n",
       "      <td>2.0</td>\n",
       "      <td>0.784000</td>\n",
       "      <td>209.0</td>\n",
       "      <td>0.478726</td>\n",
       "      <td>1000.0</td>\n",
       "      <td>0.001</td>\n",
       "    </tr>\n",
       "    <tr>\n",
       "      <td>iris.csv</td>\n",
       "      <td>4.0</td>\n",
       "      <td>3.0</td>\n",
       "      <td>0.913333</td>\n",
       "      <td>999.0</td>\n",
       "      <td>0.319378</td>\n",
       "      <td>1000.0</td>\n",
       "      <td>0.001</td>\n",
       "    </tr>\n",
       "    <tr>\n",
       "      <td>moons_mis-scaled.csv</td>\n",
       "      <td>2.0</td>\n",
       "      <td>2.0</td>\n",
       "      <td>0.870000</td>\n",
       "      <td>915.0</td>\n",
       "      <td>0.274280</td>\n",
       "      <td>1000.0</td>\n",
       "      <td>0.001</td>\n",
       "    </tr>\n",
       "    <tr>\n",
       "      <td>moons.csv</td>\n",
       "      <td>2.0</td>\n",
       "      <td>2.0</td>\n",
       "      <td>0.870000</td>\n",
       "      <td>271.0</td>\n",
       "      <td>0.314537</td>\n",
       "      <td>1000.0</td>\n",
       "      <td>0.001</td>\n",
       "    </tr>\n",
       "  </tbody>\n",
       "</table>\n",
       "</div>"
      ],
      "text/plain": [
       "                       entrada   clases   accuracy   acc_epoca      loss  \\\n",
       "archivos                                                                   \n",
       "2_clases_simple.csv        2.0      2.0   1.000000        14.0  0.239253   \n",
       "6_clases_dificil.csv       2.0      6.0   0.934000       956.0  0.396438   \n",
       "circulos.csv               2.0      2.0   0.536667       198.0  0.693204   \n",
       "diabetes.csv               8.0      2.0   0.784000       209.0  0.478726   \n",
       "iris.csv                   4.0      3.0   0.913333       999.0  0.319378   \n",
       "moons_mis-scaled.csv       2.0      2.0   0.870000       915.0  0.274280   \n",
       "moons.csv                  2.0      2.0   0.870000       271.0  0.314537   \n",
       "\n",
       "                       epocas   tasa  \n",
       "archivos                              \n",
       "2_clases_simple.csv    1000.0  0.001  \n",
       "6_clases_dificil.csv   1000.0  0.001  \n",
       "circulos.csv           1000.0  0.001  \n",
       "diabetes.csv           1000.0  0.001  \n",
       "iris.csv               1000.0  0.001  \n",
       "moons_mis-scaled.csv   1000.0  0.001  \n",
       "moons.csv              1000.0  0.001  "
      ]
     },
     "execution_count": 19,
     "metadata": {},
     "output_type": "execute_result"
    }
   ],
   "source": [
    "rtas = pd.read_csv('ejercicio5.csv')\n",
    "rtas = rtas.fillna(0).set_index('archivos')\n",
    "rtas"
   ]
  },
  {
   "cell_type": "code",
   "execution_count": 20,
   "metadata": {},
   "outputs": [],
   "source": [
    "# Selección del dataset; descomenta el que quieras usar\n",
    "# Datasets en 2D\n",
    "#dataset = \"2_clases_simple.csv\"\n",
    "#dataset = \"6_clases_dificil.csv\"\n",
    "#dataset = \"moons.csv\"\n",
    "#dataset = \"moons_mis-scaled.csv\"\n",
    "dataset = \"circulos.csv\"\n",
    "\n",
    "# Dataset con más de 2 dimensiones\n",
    "# dataset = \"iris.csv\"\n",
    "# dataset = \"diabetes.csv\""
   ]
  },
  {
   "cell_type": "code",
   "execution_count": 21,
   "metadata": {},
   "outputs": [],
   "source": [
    "# Carga del dataset\n",
    "dataset_path=os.path.join(\"datasets_clasificacion\", dataset)\n",
    "data=np.loadtxt(open(dataset_path, \"rb\"), delimiter=\",\", skiprows=1)\n",
    "x,y=data[:,0:-1],data[:,-1]\n",
    "\n",
    "# cantidad de ejemplos y dimension de entrada\n",
    "n,d_in=x.shape\n",
    "\n",
    "# calcula la cantidad de clases\n",
    "classes=int(y.max()+1)"
   ]
  },
  {
   "cell_type": "code",
   "execution_count": 22,
   "metadata": {},
   "outputs": [],
   "source": [
    "alpha = 0.001 #tasa\n",
    "opt = keras.optimizers.SGD #optimizador\n",
    "epocas = 1000 #epocas"
   ]
  },
  {
   "cell_type": "code",
   "execution_count": 23,
   "metadata": {},
   "outputs": [
    {
     "name": "stdout",
     "output_type": "stream",
     "text": [
      "Información del conjunto de datos:\n",
      "Dataset: circulos.csv\n",
      "Ejemplos: 300\n",
      "Variables de entrada: 2\n",
      "Cantidad de clases: 2\n"
     ]
    }
   ],
   "source": [
    "print(\"Información del conjunto de datos:\")\n",
    "print(f'Dataset: {dataset}')\n",
    "print(f\"Ejemplos: {n}\")\n",
    "print(f\"Variables de entrada: {d_in}\")\n",
    "print(f\"Cantidad de clases: {classes}\")"
   ]
  },
  {
   "cell_type": "code",
   "execution_count": 24,
   "metadata": {},
   "outputs": [],
   "source": [
    "# Normalizo las variables de entrada\n",
    "for i in range(d_in):\n",
    "    x[:,i]=(x[:,i]-x[:,i].mean())/x[:,i].std()"
   ]
  },
  {
   "cell_type": "code",
   "execution_count": 25,
   "metadata": {},
   "outputs": [
    {
     "name": "stdout",
     "output_type": "stream",
     "text": [
      "Inicialización aleatoria del modelo (podes volver a correr esta celda para obtener otros resultados)\n"
     ]
    }
   ],
   "source": [
    "# Creación del modelo inicial\n",
    "print(\"Inicialización aleatoria del modelo (podes volver a correr esta celda para obtener otros resultados)\")\n",
    "\n",
    "layer = keras.layers.Dense(classes,input_shape=(d_in,), activation='softmax')\n",
    "# Creo un modelo logístico\n",
    "modelo = keras.Sequential([layer])"
   ]
  },
  {
   "cell_type": "code",
   "execution_count": 26,
   "metadata": {},
   "outputs": [
    {
     "data": {
      "image/png": "[encoded data removed]",
      "text/plain": [
       "<Figure size 432x288 with 2 Axes>"
      ]
     },
     "metadata": {
      "needs_background": "light"
     },
     "output_type": "display_data"
    }
   ],
   "source": [
    "# visualización del modelo inicial (si hay solo 2 variables de entrada)\n",
    "if d_in==2:\n",
    "    utils.plot_regresion_logistica2D(modelo,x,y,title=f\"Modelo inicial\",detail=0.05)"
   ]
  },
  {
   "cell_type": "code",
   "execution_count": 27,
   "metadata": {},
   "outputs": [],
   "source": [
    "modelo.compile(\n",
    "  optimizer=opt(lr=alpha), \n",
    "  loss='sparse_categorical_crossentropy', \n",
    "  # metricas para ir calculando en cada iteracion o batch \n",
    "  # Agregamos el accuracy del modelo\n",
    "  metrics=['accuracy'], \n",
    ")"
   ]
  },
  {
   "cell_type": "code",
   "execution_count": 46,
   "metadata": {},
   "outputs": [],
   "source": [
    "# Entrenamiento del modelo\n",
    "callbacks = [keras.callbacks.EarlyStopping(monitor='loss', patience=2)]\n",
    "history = modelo.fit(x, y, \n",
    "                     epochs=epocas, \n",
    "                     batch_size=16, \n",
    "                     verbose=0, \n",
    "                   #  callbacks = callbacks\n",
    "                     validation_split=0.3\n",
    "            )"
   ]
  },
  {
   "cell_type": "code",
   "execution_count": 47,
   "metadata": {},
   "outputs": [
    {
     "data": {
      "image/png": "[encoded data removed]",
      "text/plain": [
       "<Figure size 432x288 with 2 Axes>"
      ]
     },
     "metadata": {
      "needs_background": "light"
     },
     "output_type": "display_data"
    }
   ],
   "source": [
    "# visualización del modelo final (si hay solo 2 variables de entrada)\n",
    "if d_in==2:\n",
    "    utils.plot_regresion_logistica2D(modelo,x,y,title=f\"Modelo Final\",detail=0.05)"
   ]
  },
  {
   "cell_type": "code",
   "execution_count": 48,
   "metadata": {},
   "outputs": [
    {
     "data": {
      "text/plain": [
       "dict_keys(['val_loss', 'val_acc', 'loss', 'acc'])"
      ]
     },
     "execution_count": 48,
     "metadata": {},
     "output_type": "execute_result"
    }
   ],
   "source": [
    "history.history.keys()"
   ]
  },
  {
   "cell_type": "code",
   "execution_count": 49,
   "metadata": {},
   "outputs": [
    {
     "data": {
      "image/png": "[encoded data removed]",
      "text/plain": [
       "<Figure size 432x288 with 1 Axes>"
      ]
     },
     "metadata": {
      "needs_background": "light"
     },
     "output_type": "display_data"
    }
   ],
   "source": [
    "plot_curve(history, 'loss')"
   ]
  },
  {
   "cell_type": "code",
   "execution_count": 50,
   "metadata": {},
   "outputs": [
    {
     "data": {
      "image/png": "[encoded data removed]",
      "text/plain": [
       "<Figure size 432x288 with 1 Axes>"
      ]
     },
     "metadata": {
      "needs_background": "light"
     },
     "output_type": "display_data"
    }
   ],
   "source": [
    "plot_curve(history, 'acc')"
   ]
  },
  {
   "cell_type": "code",
   "execution_count": 51,
   "metadata": {},
   "outputs": [],
   "source": [
    "print(history.history.keys()), modelo.evaluate(x,y)"
   ]
  },
  {
   "cell_type": "code",
   "execution_count": 52,
   "metadata": {},
   "outputs": [
    {
     "data": {
      "text/plain": [
       "(706, 0.6666666666666666)"
      ]
     },
     "execution_count": 52,
     "metadata": {},
     "output_type": "execute_result"
    }
   ],
   "source": [
    "acc = pd.Series(history.history['acc'])\n",
    "acc.idxmax(), acc.max()"
   ]
  },
  {
   "cell_type": "code",
   "execution_count": 39,
   "metadata": {},
   "outputs": [],
   "source": [
    "loss = pd.Series(history.history['loss'])\n",
    "change_loss = loss.pct_change()"
   ]
  },
  {
   "cell_type": "code",
   "execution_count": 40,
   "metadata": {},
   "outputs": [],
   "source": [
    "mean_change_loss = change_loss.mean()"
   ]
  },
  {
   "cell_type": "code",
   "execution_count": 41,
   "metadata": {},
   "outputs": [
    {
     "data": {
      "text/plain": [
       "(0.7553824098904928, 0.6929079794883728, 955)"
      ]
     },
     "execution_count": 41,
     "metadata": {},
     "output_type": "execute_result"
    }
   ],
   "source": [
    "loss.iloc[acc.idxmax()], loss.min(), loss.idxmin()"
   ]
  },
  {
   "cell_type": "code",
   "execution_count": 42,
   "metadata": {},
   "outputs": [
    {
     "data": {
      "text/plain": [
       " entrada         2.000000\n",
       " clases          2.000000\n",
       " accuracy        0.540000\n",
       " acc_epoca      19.000000\n",
       " loss            0.755382\n",
       " epocas       1000.000000\n",
       " tasa            0.001000\n",
       "Name: circulos.csv, dtype: float64"
      ]
     },
     "execution_count": 42,
     "metadata": {},
     "output_type": "execute_result"
    }
   ],
   "source": [
    "rtas.loc[dataset] = d_in, classes, acc.max(), acc.idxmax(), loss.iloc[acc.idxmax()], epocas, alpha\n",
    "rtas.loc[dataset]"
   ]
  },
  {
   "cell_type": "code",
   "execution_count": 43,
   "metadata": {},
   "outputs": [
    {
     "data": {
      "text/html": [
       "<div>\n",
       "<style scoped>\n",
       "    .dataframe tbody tr th:only-of-type {\n",
       "        vertical-align: middle;\n",
       "    }\n",
       "\n",
       "    .dataframe tbody tr th {\n",
       "        vertical-align: top;\n",
       "    }\n",
       "\n",
       "    .dataframe thead th {\n",
       "        text-align: right;\n",
       "    }\n",
       "</style>\n",
       "<table border=\"1\" class=\"dataframe\">\n",
       "  <thead>\n",
       "    <tr style=\"text-align: right;\">\n",
       "      <th></th>\n",
       "      <th>entrada</th>\n",
       "      <th>clases</th>\n",
       "      <th>accuracy</th>\n",
       "      <th>acc_epoca</th>\n",
       "      <th>loss</th>\n",
       "      <th>epocas</th>\n",
       "      <th>tasa</th>\n",
       "    </tr>\n",
       "    <tr>\n",
       "      <th>archivos</th>\n",
       "      <th></th>\n",
       "      <th></th>\n",
       "      <th></th>\n",
       "      <th></th>\n",
       "      <th></th>\n",
       "      <th></th>\n",
       "      <th></th>\n",
       "    </tr>\n",
       "  </thead>\n",
       "  <tbody>\n",
       "    <tr>\n",
       "      <td>2_clases_simple.csv</td>\n",
       "      <td>2.0</td>\n",
       "      <td>2.0</td>\n",
       "      <td>1.000000</td>\n",
       "      <td>14.0</td>\n",
       "      <td>0.239253</td>\n",
       "      <td>1000.0</td>\n",
       "      <td>0.001</td>\n",
       "    </tr>\n",
       "    <tr>\n",
       "      <td>6_clases_dificil.csv</td>\n",
       "      <td>2.0</td>\n",
       "      <td>6.0</td>\n",
       "      <td>0.934000</td>\n",
       "      <td>956.0</td>\n",
       "      <td>0.396438</td>\n",
       "      <td>1000.0</td>\n",
       "      <td>0.001</td>\n",
       "    </tr>\n",
       "    <tr>\n",
       "      <td>circulos.csv</td>\n",
       "      <td>2.0</td>\n",
       "      <td>2.0</td>\n",
       "      <td>0.540000</td>\n",
       "      <td>19.0</td>\n",
       "      <td>0.755382</td>\n",
       "      <td>1000.0</td>\n",
       "      <td>0.001</td>\n",
       "    </tr>\n",
       "    <tr>\n",
       "      <td>diabetes.csv</td>\n",
       "      <td>8.0</td>\n",
       "      <td>2.0</td>\n",
       "      <td>0.784000</td>\n",
       "      <td>209.0</td>\n",
       "      <td>0.478726</td>\n",
       "      <td>1000.0</td>\n",
       "      <td>0.001</td>\n",
       "    </tr>\n",
       "    <tr>\n",
       "      <td>iris.csv</td>\n",
       "      <td>4.0</td>\n",
       "      <td>3.0</td>\n",
       "      <td>0.913333</td>\n",
       "      <td>999.0</td>\n",
       "      <td>0.319378</td>\n",
       "      <td>1000.0</td>\n",
       "      <td>0.001</td>\n",
       "    </tr>\n",
       "    <tr>\n",
       "      <td>moons_mis-scaled.csv</td>\n",
       "      <td>2.0</td>\n",
       "      <td>2.0</td>\n",
       "      <td>0.870000</td>\n",
       "      <td>915.0</td>\n",
       "      <td>0.274280</td>\n",
       "      <td>1000.0</td>\n",
       "      <td>0.001</td>\n",
       "    </tr>\n",
       "    <tr>\n",
       "      <td>moons.csv</td>\n",
       "      <td>2.0</td>\n",
       "      <td>2.0</td>\n",
       "      <td>0.870000</td>\n",
       "      <td>271.0</td>\n",
       "      <td>0.314537</td>\n",
       "      <td>1000.0</td>\n",
       "      <td>0.001</td>\n",
       "    </tr>\n",
       "  </tbody>\n",
       "</table>\n",
       "</div>"
      ],
      "text/plain": [
       "                       entrada   clases   accuracy   acc_epoca      loss  \\\n",
       "archivos                                                                   \n",
       "2_clases_simple.csv        2.0      2.0   1.000000        14.0  0.239253   \n",
       "6_clases_dificil.csv       2.0      6.0   0.934000       956.0  0.396438   \n",
       "circulos.csv               2.0      2.0   0.540000        19.0  0.755382   \n",
       "diabetes.csv               8.0      2.0   0.784000       209.0  0.478726   \n",
       "iris.csv                   4.0      3.0   0.913333       999.0  0.319378   \n",
       "moons_mis-scaled.csv       2.0      2.0   0.870000       915.0  0.274280   \n",
       "moons.csv                  2.0      2.0   0.870000       271.0  0.314537   \n",
       "\n",
       "                       epocas   tasa  \n",
       "archivos                              \n",
       "2_clases_simple.csv    1000.0  0.001  \n",
       "6_clases_dificil.csv   1000.0  0.001  \n",
       "circulos.csv           1000.0  0.001  \n",
       "diabetes.csv           1000.0  0.001  \n",
       "iris.csv               1000.0  0.001  \n",
       "moons_mis-scaled.csv   1000.0  0.001  \n",
       "moons.csv              1000.0  0.001  "
      ]
     },
     "execution_count": 43,
     "metadata": {},
     "output_type": "execute_result"
    }
   ],
   "source": [
    "rtas"
   ]
  },
  {
   "cell_type": "code",
   "execution_count": 44,
   "metadata": {},
   "outputs": [
    {
     "data": {
      "text/plain": [
       "array([[-0.6887911 , -0.7292229 ],\n",
       "       [ 0.72603184,  0.7047829 ]], dtype=float32)"
      ]
     },
     "execution_count": 44,
     "metadata": {},
     "output_type": "execute_result"
    }
   ],
   "source": [
    "w, b = modelo.get_weights()\n",
    "w"
   ]
  },
  {
   "cell_type": "markdown",
   "metadata": {},
   "source": [
    "- dataset 3: no es un problema linealmente separable. en 270 iteraciones lllegamos a un umbral de accuracy, es decir estamos overfitteando el modelo 800 iteraciones más. \n",
    "\n",
    "- dataset 4: nuevamente no es linealmente separable. Ahora tenemos los puntos sin escala, lo que conlleva mucho más tiempo para la optimización por gradiente. (es el mismo que el 3 pero sin escalar\n",
    "\n",
    "- dataset 5: es un circulo y es linealmente separable pero con features polinómicas. podríamos hacer trampa y generar features polinómicas o agregar capas a nuestra red. Con problemas lineales, este modelo tiene muy baja performance. (50% accuracy).\n",
    "\n",
    "- dataset 6: iris. el modelo parece tener una buena performance 91% con un error de 0.31. El problema que parece que aún le falta entrenar más (llegó a la epoca 1000 y seguía mejorando).\n",
    "\n",
    "- dataset 7: diabetes: el modelo tiene una baja performance (78%), la cual nos acercamos demasiado pronto (epoca 200). las 800 iteraciones siguientes el modelo sobreajusta. El error es de 0.47. Seguramente este modelo se puede mejorar con features polinómicas.\n",
    "\n",
    "además de sobreajustar, estos modelos seguramente no estén generalizando. No veo que sea parte de este apartado, pero seguramente no lo esté haciendo.  (tendríamos que tener un set de validación y otro de test y gráficar la learning curve). "
   ]
  },
  {
   "cell_type": "code",
   "execution_count": 343,
   "metadata": {},
   "outputs": [],
   "source": [
    "# guardamos las respuestas: \n",
    "rtas.to_csv('ejercicio5.csv')"
   ]
  },
  {
   "cell_type": "code",
   "execution_count": null,
   "metadata": {},
   "outputs": [],
   "source": []
  }
 ],
 "metadata": {
  "kernelspec": {
   "display_name": "Python 3",
   "language": "python",
   "name": "python3"
  },
  "language_info": {
   "codemirror_mode": {
    "name": "ipython",
    "version": 3
   },
   "file_extension": ".py",
   "mimetype": "text/x-python",
   "name": "python",
   "nbconvert_exporter": "python",
   "pygments_lexer": "ipython3",
   "version": "3.6.8"
  }
 },
 "nbformat": 4,
 "nbformat_minor": 2
}
