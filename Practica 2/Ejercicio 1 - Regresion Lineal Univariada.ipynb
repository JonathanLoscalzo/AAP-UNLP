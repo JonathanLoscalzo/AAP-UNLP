{
 "cells": [
  {
   "cell_type": "code",
   "execution_count": 1,
   "metadata": {},
   "outputs": [],
   "source": [
    "%load_ext autoreload\n",
    "%autoreload 2"
   ]
  },
  {
   "cell_type": "markdown",
   "metadata": {},
   "source": [
    "# Ejercicio 1 -   Regresión Lineal Univariada\n",
    "\n",
    "En este ejercicio, tu objetivo será implementar el método `forward` de un modelo de Regresión Lineal Univariada (es decir, con una sola variable de entrada). No debés implementar ningún otro método.\n",
    "\n",
    "La función se encuentra en la clase `RegresionLinealUnivariada`.\n",
    "\n",
    "Luego, ejecuta las pruebas para verificar que implementaste correctamente el modelo.\n",
    "\n",
    "\n"
   ]
  },
  {
   "cell_type": "code",
   "execution_count": 49,
   "metadata": {},
   "outputs": [],
   "source": [
    "\n",
    "import numpy as np\n",
    "import matplotlib as plt\n",
    "import seaborn as sns\n",
    "\n",
    "class RegresionLinealUnivariada():\n",
    "    '''\n",
    "    Esta clase permite entrenar modelos de regresión lineal univariada, cuya función de predicciónes:\n",
    "    y = w x + b\n",
    "    Los parámetros w y b son números flotantes\n",
    "    La entrada x debe ser unidimensional.\n",
    "    '''\n",
    "\n",
    "    def __init__(self,w:float,b:float):\n",
    "        self.w=w\n",
    "        self.b=b\n",
    "        self.err=np.array([])\n",
    "    \n",
    "    def __repr__(self):\n",
    "        return f\"{self.__class__.__name__}(w = {self.w:.5f}, b = {self.b:.5f})\"\n",
    "\n",
    "    def forward(self,x:np.ndarray):\n",
    "        '''\n",
    "\n",
    "        :param x: vector 1D con valores de entrada\n",
    "        :return: la predicción x*w+b\n",
    "        '''\n",
    "        assert (len(x.shape) == 1)\n",
    "\n",
    "        n=len(x)\n",
    "        y=np.zeros(n)\n",
    "\n",
    "        # TODO calcular la salida y en base a: x, self.w, y self.b\n",
    "        \n",
    "        y = self.w * x + self.b\n",
    "        \n",
    "        # FIN TODO\n",
    "        assert (len(y) == n)\n",
    "\n",
    "        return y\n",
    "    \n",
    "    def backward(self,x:np.ndarray,y:np.ndarray)->(float,float):\n",
    "        '''\n",
    "        Calcula las derivadas de los parámetros del modelo con respecto \n",
    "        al error cuadrático medio y al conjunto de datos (x,y)\n",
    "        No necesitas implementar nada aqui\n",
    "        :param x: vector 1D con los valores de entrada\n",
    "        :param y: vector 1D con los valores de salida _verdaderos_ \n",
    "        :return derivada del error respecto de w y b\n",
    "        '''\n",
    "        \n",
    "        yhat = self.forward(x)\n",
    "        # calculo de derivadas\n",
    "        dEdw = 2 * ((yhat - y) * x).mean()\n",
    "        dEdb = 2 * (yhat - y).mean()\n",
    "        return dEdw,dEdb\n",
    "\n",
    "    def fit(self,x:np.ndarray,y:np.ndarray,lr:float=0.001,epochs:int=100):\n",
    "        '''\n",
    "        No necesitas implementar nada aqui\n",
    "        Entrena el modelo (ajusta los parámetros) para minimizar el error cuadrático medio\n",
    "        :param x: vector 1D con los valores de entrada\n",
    "        :param y: vector 1D con los valores de salida _verdaderos_ \n",
    "        :param lr: velocidad de aprendizaje (learning rate)\n",
    "        :param epochs: cantidad de iteraciones de aprendizaje\n",
    "        '''\n",
    "        \n",
    "        assert (len(x.shape) == 1)\n",
    "        assert (len(y.shape) == 1)\n",
    "        assert ( len(y) == len(x))\n",
    "        n = len(x)\n",
    "\n",
    "        for i in range(epochs):\n",
    "            dEdw,dEdb=self.backward(x,y)\n",
    "            # actualizo los parámetros\n",
    "            self.w = self.w - lr * dEdw\n",
    "            self.b = self.b - lr * dEdb\n",
    "            self.err = np.append(self.err, [epochs, self.error(x,y)], axis=0)\n",
    "            print(f\"Epoch {i+1}/{epochs} => Error = {self.error(x,y)}\")\n",
    "        \n",
    "    def error(self,x:np.ndarray,y:np.ndarray)->float:\n",
    "        '''\n",
    "        Error cuadrático medio (MSE) del modelo\n",
    "        :param x: vector 1D con los valores de entrada\n",
    "        :param y: vector 1D con los valores de salida _verdaderos_ \n",
    "        :return flotante con el error promedio del modelo entre todos los ejemplos\n",
    "        '''\n",
    "        \n",
    "        yhat = self.forward(x)\n",
    "        d2 = (y-yhat)**2\n",
    "        return d2.mean()\n",
    "    "
   ]
  },
  {
   "cell_type": "markdown",
   "metadata": {},
   "source": [
    "# Ejecuta el siguiente bloque para verificar que la función `forward` está bien implementada"
   ]
  },
  {
   "cell_type": "code",
   "execution_count": 31,
   "metadata": {},
   "outputs": [],
   "source": [
    "import utils\n",
    "x=np.array([1.0,2.0,3.0])"
   ]
  },
  {
   "cell_type": "code",
   "execution_count": 32,
   "metadata": {},
   "outputs": [
    {
     "name": "stdout",
     "output_type": "stream",
     "text": [
      "Los vectores x e y son iguales:\n",
      "x:  [0. 0. 0.]\n",
      "y:  [0. 0. 0.]\n"
     ]
    }
   ],
   "source": [
    "rl1=RegresionLinealUnivariada(0.0,0.0)\n",
    "y=rl1.forward(x)\n",
    "utils.verificar_igualdad(y,np.zeros(3))"
   ]
  },
  {
   "cell_type": "code",
   "execution_count": 33,
   "metadata": {},
   "outputs": [
    {
     "name": "stdout",
     "output_type": "stream",
     "text": [
      "Los vectores x e y son iguales:\n",
      "x:  [1. 2. 3.]\n",
      "y:  [1. 2. 3.]\n"
     ]
    }
   ],
   "source": [
    "rl2=RegresionLinealUnivariada(1.0,0.0)\n",
    "y=rl2.forward(x)\n",
    "utils.verificar_igualdad(y,x)"
   ]
  },
  {
   "cell_type": "code",
   "execution_count": 34,
   "metadata": {},
   "outputs": [
    {
     "name": "stdout",
     "output_type": "stream",
     "text": [
      "Los vectores x e y son iguales:\n",
      "x:  [1. 1. 1.]\n",
      "y:  [1. 1. 1.]\n"
     ]
    }
   ],
   "source": [
    "rl3=RegresionLinealUnivariada(0.0,1.0)\n",
    "y=rl3.forward(x)\n",
    "utils.verificar_igualdad(y,np.ones(3))"
   ]
  },
  {
   "cell_type": "code",
   "execution_count": 35,
   "metadata": {},
   "outputs": [
    {
     "name": "stdout",
     "output_type": "stream",
     "text": [
      "Los vectores x e y son iguales:\n",
      "x:  [2. 3. 4.]\n",
      "y:  [2. 3. 4.]\n"
     ]
    }
   ],
   "source": [
    "rl4=RegresionLinealUnivariada(1.0,1.0)\n",
    "y=rl4.forward(x)\n",
    "utils.verificar_igualdad(y,np.ones(3)+x)"
   ]
  },
  {
   "cell_type": "markdown",
   "metadata": {},
   "source": [
    "# Verifica que el modelo se entrena correctamente."
   ]
  },
  {
   "cell_type": "code",
   "execution_count": 36,
   "metadata": {},
   "outputs": [
    {
     "data": {
      "text/plain": [
       "array([[ 2. ,  1. ],\n",
       "       [ 5. ,  3.2],\n",
       "       [ 7. ,  4.5],\n",
       "       [ 9. ,  6. ],\n",
       "       [10. ,  4. ],\n",
       "       [11. ,  4.5],\n",
       "       [13.4,  5.5],\n",
       "       [14. ,  3. ],\n",
       "       [15. ,  5. ],\n",
       "       [17. ,  5. ],\n",
       "       [19. ,  6. ],\n",
       "       [22. ,  7. ],\n",
       "       [25. ,  7. ],\n",
       "       [29. ,  9.1],\n",
       "       [31. ,  5.4],\n",
       "       [33. ,  7. ],\n",
       "       [35. , 10. ],\n",
       "       [40. , 10. ],\n",
       "       [42. ,  9.1]])"
      ]
     },
     "execution_count": 36,
     "metadata": {},
     "output_type": "execute_result"
    }
   ],
   "source": [
    "# Carga del dataset\n",
    "import os\n",
    "dataset_path=os.path.join(\"datasets_simples\",\"study_regression_small.csv\")\n",
    "data=np.loadtxt(open(dataset_path, \"rb\"), delimiter=\",\", skiprows=1)\n",
    "data"
   ]
  },
  {
   "cell_type": "code",
   "execution_count": 37,
   "metadata": {},
   "outputs": [
    {
     "data": {
      "text/plain": [
       "(array([ 2. ,  5. ,  7. ,  9. , 10. , 11. , 13.4, 14. , 15. , 17. , 19. ,\n",
       "        22. , 25. , 29. , 31. , 33. , 35. , 40. , 42. ]),\n",
       " array([ 1. ,  3.2,  4.5,  6. ,  4. ,  4.5,  5.5,  3. ,  5. ,  5. ,  6. ,\n",
       "         7. ,  7. ,  9.1,  5.4,  7. , 10. , 10. ,  9.1]))"
      ]
     },
     "execution_count": 37,
     "metadata": {},
     "output_type": "execute_result"
    }
   ],
   "source": [
    "x,y=data[:,0],data[:,1]\n",
    "x,y"
   ]
  },
  {
   "cell_type": "code",
   "execution_count": 59,
   "metadata": {},
   "outputs": [
    {
     "name": "stdout",
     "output_type": "stream",
     "text": [
      "Inicialización aleatoria del modelo; vuelve a correr esta celda para obtener otros resultados\n",
      "Epoch 1/100 => Error = 3.4147108742139163\n",
      "Epoch 2/100 => Error = 2.081636251656559\n",
      "Epoch 3/100 => Error = 2.072943607188643\n",
      "Epoch 4/100 => Error = 2.072150258250672\n",
      "Epoch 5/100 => Error = 2.0714047861834795\n",
      "Epoch 6/100 => Error = 2.0706603648409665\n",
      "Epoch 7/100 => Error = 2.0699167141645716\n",
      "Epoch 8/100 => Error = 2.0691738316944113\n",
      "Epoch 9/100 => Error = 2.068431716627002\n",
      "Epoch 10/100 => Error = 2.0676903681695507\n",
      "Epoch 11/100 => Error = 2.066949785530145\n",
      "Epoch 12/100 => Error = 2.0662099679176893\n",
      "Epoch 13/100 => Error = 2.065470914541907\n",
      "Epoch 14/100 => Error = 2.0647326246133324\n",
      "Epoch 15/100 => Error = 2.063995097343323\n",
      "Epoch 16/100 => Error = 2.0632583319440454\n",
      "Epoch 17/100 => Error = 2.0625223276284834\n",
      "Epoch 18/100 => Error = 2.061787083610431\n",
      "Epoch 19/100 => Error = 2.061052599104496\n",
      "Epoch 20/100 => Error = 2.0603188733260973\n",
      "Epoch 21/100 => Error = 2.0595859054914643\n",
      "Epoch 22/100 => Error = 2.058853694817634\n",
      "Epoch 23/100 => Error = 2.0581222405224584\n",
      "Epoch 24/100 => Error = 2.057391541824589\n",
      "Epoch 25/100 => Error = 2.056661597943491\n",
      "Epoch 26/100 => Error = 2.0559324080994315\n",
      "Epoch 27/100 => Error = 2.0552039715134858\n",
      "Epoch 28/100 => Error = 2.0544762874075335\n",
      "Epoch 29/100 => Error = 2.0537493550042596\n",
      "Epoch 30/100 => Error = 2.0530231735271456\n",
      "Epoch 31/100 => Error = 2.0522977422004836\n",
      "Epoch 32/100 => Error = 2.05157306024936\n",
      "Epoch 33/100 => Error = 2.0508491268996676\n",
      "Epoch 34/100 => Error = 2.050125941378094\n",
      "Epoch 35/100 => Error = 2.049403502912129\n",
      "Epoch 36/100 => Error = 2.048681810730057\n",
      "Epoch 37/100 => Error = 2.0479608640609643\n",
      "Epoch 38/100 => Error = 2.0472406621347283\n",
      "Epoch 39/100 => Error = 2.0465212041820267\n",
      "Epoch 40/100 => Error = 2.0458024894343283\n",
      "Epoch 41/100 => Error = 2.045084517123896\n",
      "Epoch 42/100 => Error = 2.04436728648379\n",
      "Epoch 43/100 => Error = 2.0436507967478583\n",
      "Epoch 44/100 => Error = 2.042935047150742\n",
      "Epoch 45/100 => Error = 2.0422200369278722\n",
      "Epoch 46/100 => Error = 2.041505765315472\n",
      "Epoch 47/100 => Error = 2.0407922315505482\n",
      "Epoch 48/100 => Error = 2.0400794348709024\n",
      "Epoch 49/100 => Error = 2.0393673745151193\n",
      "Epoch 50/100 => Error = 2.038656049722571\n",
      "Epoch 51/100 => Error = 2.037945459733416\n",
      "Epoch 52/100 => Error = 2.0372356037885972\n",
      "Epoch 53/100 => Error = 2.0365264811298425\n",
      "Epoch 54/100 => Error = 2.0358180909996624\n",
      "Epoch 55/100 => Error = 2.0351104326413485\n",
      "Epoch 56/100 => Error = 2.034403505298976\n",
      "Epoch 57/100 => Error = 2.0336973082174015\n",
      "Epoch 58/100 => Error = 2.032991840642259\n",
      "Epoch 59/100 => Error = 2.032287101819963\n",
      "Epoch 60/100 => Error = 2.0315830909977093\n",
      "Epoch 61/100 => Error = 2.030879807423467\n",
      "Epoch 62/100 => Error = 2.0301772503459845\n",
      "Epoch 63/100 => Error = 2.029475419014785\n",
      "Epoch 64/100 => Error = 2.0287743126801683\n",
      "Epoch 65/100 => Error = 2.0280739305932074\n",
      "Epoch 66/100 => Error = 2.02737427200575\n",
      "Epoch 67/100 => Error = 2.0266753361704164\n",
      "Epoch 68/100 => Error = 2.0259771223405973\n",
      "Epoch 69/100 => Error = 2.0252796297704583\n",
      "Epoch 70/100 => Error = 2.024582857714932\n",
      "Epoch 71/100 => Error = 2.0238868054297208\n",
      "Epoch 72/100 => Error = 2.023191472171299\n",
      "Epoch 73/100 => Error = 2.0224968571969053\n",
      "Epoch 74/100 => Error = 2.021802959764547\n",
      "Epoch 75/100 => Error = 2.021109779133001\n",
      "Epoch 76/100 => Error = 2.0204173145618047\n",
      "Epoch 77/100 => Error = 2.019725565311264\n",
      "Epoch 78/100 => Error = 2.0190345306424473\n",
      "Epoch 79/100 => Error = 2.0183442098171875\n",
      "Epoch 80/100 => Error = 2.0176546020980775\n",
      "Epoch 81/100 => Error = 2.016965706748475\n",
      "Epoch 82/100 => Error = 2.0162775230324974\n",
      "Epoch 83/100 => Error = 2.015590050215022\n",
      "Epoch 84/100 => Error = 2.014903287561686\n",
      "Epoch 85/100 => Error = 2.014217234338885\n",
      "Epoch 86/100 => Error = 2.0135318898137724\n",
      "Epoch 87/100 => Error = 2.012847253254259\n",
      "Epoch 88/100 => Error = 2.012163323929011\n",
      "Epoch 89/100 => Error = 2.0114801011074506\n",
      "Epoch 90/100 => Error = 2.0107975840597536\n",
      "Epoch 91/100 => Error = 2.010115772056852\n",
      "Epoch 92/100 => Error = 2.00943466437043\n",
      "Epoch 93/100 => Error = 2.008754260272924\n",
      "Epoch 94/100 => Error = 2.0080745590375195\n",
      "Epoch 95/100 => Error = 2.007395559938157\n",
      "Epoch 96/100 => Error = 2.0067172622495253\n",
      "Epoch 97/100 => Error = 2.0060396652470622\n",
      "Epoch 98/100 => Error = 2.0053627682069526\n",
      "Epoch 99/100 => Error = 2.0046865704061325\n",
      "Epoch 100/100 => Error = 2.0040110711222825\n"
     ]
    },
    {
     "data": {
      "image/png": "[encoded data removed]",
      "text/plain": [
       "<Figure size 432x288 with 1 Axes>"
      ]
     },
     "metadata": {
      "needs_background": "light"
     },
     "output_type": "display_data"
    },
    {
     "data": {
      "image/png": "[encoded data removed]",
      "text/plain": [
       "<Figure size 432x288 with 1 Axes>"
      ]
     },
     "metadata": {
      "needs_background": "light"
     },
     "output_type": "display_data"
    }
   ],
   "source": [
    "print(\"Inicialización aleatoria del modelo; vuelve a correr esta celda para obtener otros resultados\")\n",
    "w_random=np.random.rand()\n",
    "b_random=np.random.rand()\n",
    "rl=RegresionLinealUnivariada(w_random,b_random)\n",
    "\n",
    "# visualiza el modelo inicial aleatorio y los datos\n",
    "utils.plot_regresion_lineal_univariada(rl.w,rl.b,x,y,title=\"Modelo Inicial: \")\n",
    "\n",
    "# entrena el modelo\n",
    "rl.fit(x,y,lr=0.001,epochs=100)\n",
    "\n",
    "#visualiza el modelo entrenado\n",
    "utils.plot_regresion_lineal_univariada(rl.w,rl.b,x,y,title=\"Modelo Final: \")"
   ]
  },
  {
   "cell_type": "code",
   "execution_count": 60,
   "metadata": {},
   "outputs": [
    {
     "data": {
      "text/plain": [
       "<matplotlib.axes._subplots.AxesSubplot at 0x7ff53b296eb8>"
      ]
     },
     "execution_count": 60,
     "metadata": {},
     "output_type": "execute_result"
    },
    {
     "data": {
      "image/png": "[encoded data removed]",
      "text/plain": [
       "<Figure size 432x288 with 1 Axes>"
      ]
     },
     "metadata": {
      "needs_background": "light"
     },
     "output_type": "display_data"
    }
   ],
   "source": [
    "sns.lineplot(data=rl.err)"
   ]
  },
  {
   "cell_type": "code",
   "execution_count": null,
   "metadata": {},
   "outputs": [],
   "source": []
  }
 ],
 "metadata": {
  "kernelspec": {
   "display_name": "Python 3",
   "language": "python",
   "name": "python3"
  },
  "language_info": {
   "codemirror_mode": {
    "name": "ipython",
    "version": 3
   },
   "file_extension": ".py",
   "mimetype": "text/x-python",
   "name": "python",
   "nbconvert_exporter": "python",
   "pygments_lexer": "ipython3",
   "version": "3.6.8"
  }
 },
 "nbformat": 4,
 "nbformat_minor": 2
}
