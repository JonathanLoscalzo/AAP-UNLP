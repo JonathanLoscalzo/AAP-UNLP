{
 "cells": [
  {
   "cell_type": "markdown",
   "metadata": {},
   "source": [
    "### Ejercicio   2. \n",
    "Entrená   un   modelo   que   clasifique   correctamente   las   clases   en   el   archivo “6_clases_dificil.csv”. Realizá un análisis de las diferentes métricas vistas en clase. Podés utilizar las funciones  definidas  en AAPutils.pypara  realizar  más  rápidamentelos  gráficos  y  reportes. de utilidad\n",
    "\n",
    "- separar en train-test\n",
    "- curvas de entrenamiento (basadas en loss y epochs) para test y train ( o validation )\n",
    "X_train, X_test, Y_train, Y_test= AAPutils.dividir_train_test(X, Y, test_size= test_proportion)\n",
    "\n",
    "- errores nos permite saber como se ajusta nuestro modelo a las probabilidades\n",
    "AAPutils.plot_training_curves(history)\n",
    "\n",
    "- matriz de confusión\n",
    "AAPutils.plot_confusion_matrix(y_true, y_pred)\n",
    "\n",
    "```\n",
    "[[TN FP],[FN, TP]]\n",
    "```\n",
    "\n",
    "- accuracy:> TP + TN / N. No es una buena métrica si el modelo está desbalanceado\n",
    "- precision:> TP / TP + FP ( que tan bien predije)\n",
    "- recall : > TP / TP + FN (los que recordó)\n",
    "- f-score: 2 * (precisio * recall) / (precision + recall) \n",
    "\n",
    "- para desbalanceados, podemos decirle el class_weight:> dict que indica el peso de cada clase (proporción). A medida que movemos el peso, se inclida el tradeoff precision-recall\n",
    "- ROC: nos muestra como se comporta el modelo (binario) al cambiar el umbral de detección.\n",
    "Usa TPR = Recall y FPR = 1 - TN / (TN + FP) = FP / (TN+FP)   \n",
    "AAPutils.plot_ROC_curve(model, x, y)\n",
    "\n",
    "- overfitting: muy complejo. bias error = 0 y variance error grande (no generaliza)\n",
    "- underfitting: muy simple. bias error grande. Falta entrenar\n",
    "- correcto: bias-variance tradeoff. Entrena y predice en en train, y en test un poco peor, pero bien. Graficar learning curve. y función error\n",
    "A grandes rasgos, podríamos decir que empieza a overfittear cuando no mejora más el modelo en los datos no vistos (testing)\n",
    "\n",
    "Regularización. Restringir la complejidad de un modelo. Evitar el overfitting. Penalización.\n",
    "\n",
    "\n"
   ]
  },
  {
   "cell_type": "code",
   "execution_count": null,
   "metadata": {},
   "outputs": [],
   "source": [
    "import numpy as np\n",
    "import tensorflow as tf\n",
    "import keras\n",
    "import numpy as np\n",
    "import os\n",
    "import seaborn as sns\n",
    "%load_ext autoreload\n",
    "%autoreload 2\n",
    "%matplotlib inline\n",
    "\n",
    "import matplotlib.pyplot as plt\n",
    "import utils\n",
    "import AAPutils\n",
    "import pandas as pd\n",
    "from sklearn import model_selection, metrics, preprocessing\n"
   ]
  },
  {
   "cell_type": "markdown",
   "metadata": {},
   "source": [
    "Cargamos nuestro dataset, y lo dividimos en feature y target"
   ]
  },
  {
   "cell_type": "code",
   "execution_count": 219,
   "metadata": {},
   "outputs": [],
   "source": [
    "df = pd.read_csv('./datasets/6_clases_dificil.csv')\n",
    "df.columns = [\"x1\",\"x2\", \"target\"]\n",
    "df = df.astype('float')\n",
    "X = df.loc[:,~df.columns.isin(['target'])].values\n",
    "y = df['target'].values\n",
    "\n",
    "# X = preprocessing.MinMaxScaler().fit_transform(X)"
   ]
  },
  {
   "cell_type": "markdown",
   "metadata": {},
   "source": [
    "Separamos en nuestro dataset de train y test. 70/30 aprox"
   ]
  },
  {
   "cell_type": "code",
   "execution_count": 222,
   "metadata": {},
   "outputs": [],
   "source": [
    "X_train, X_test, y_train, y_test = model_selection.train_test_split(X,y, test_size=0.3, random_state=7)"
   ]
  },
  {
   "cell_type": "markdown",
   "metadata": {},
   "source": [
    "Obtenemos la entrada (cantidad de features) y salida (multiclase, cantidad de clases"
   ]
  },
  {
   "cell_type": "code",
   "execution_count": 223,
   "metadata": {},
   "outputs": [],
   "source": [
    "d_in = X.shape[1]\n",
    "d_out = np.unique(y).size\n",
    "classes = d_out"
   ]
  },
  {
   "cell_type": "code",
   "execution_count": 224,
   "metadata": {},
   "outputs": [
    {
     "data": {
      "text/plain": [
       "(2, 6, (1050, 2), (1050,), (450, 2), (450,))"
      ]
     },
     "execution_count": 224,
     "metadata": {},
     "output_type": "execute_result"
    }
   ],
   "source": [
    "# verificamos los valores\n",
    "d_in, d_out, X_train.shape, y_train.shape, X_test.shape, y_test.shape,"
   ]
  },
  {
   "cell_type": "markdown",
   "metadata": {},
   "source": [
    "Empezamos a realizar nuestro modelo. \n",
    "Topología: \n",
    "- Dense(200, relu)\n",
    "- Dense(100, tanh)\n",
    "- Dense(20, tanh)\n",
    "    \n"
   ]
  },
  {
   "cell_type": "code",
   "execution_count": 225,
   "metadata": {},
   "outputs": [],
   "source": [
    "layer1 = keras.layers.Dense(\n",
    "    200, \n",
    "    input_shape=(d_in,), \n",
    "    activation='relu'\n",
    ")\n",
    "\n",
    "layer2 = keras.layers.Dense(\n",
    "    100, \n",
    "    activation='tanh'\n",
    ")\n",
    "\n",
    "layer3 = keras.layers.Dense(\n",
    "    20, \n",
    "    activation='tanh'\n",
    ")\n",
    "\n",
    "# https://en.wikipedia.org/wiki/Logit\n",
    "# la ultima capa si o si tiene que tener tantas salidas como clases, y softmax \n",
    "output = keras.layers.Dense(classes, activation='softmax')\n",
    "\n",
    "# Creo un modelo logístico\n",
    "model = keras.Sequential()\n",
    "\n",
    "layers = [\n",
    "    layer1,\n",
    "    layer2, \n",
    "    layer3,\n",
    "    output\n",
    "]\n",
    "\n",
    "for l in layers:\n",
    "    model.add(l)\n",
    "\n",
    "# posibles optimizadores:\n",
    "# https://keras.io/optimizers/\n",
    "# 'adam'\n",
    "\n",
    "alpha = 0.005\n",
    "epochs = 700\n",
    "\n",
    "model.compile(\n",
    "  optimizer='adam', #keras.optimizers.SGD(lr=alpha), \n",
    "  loss='sparse_categorical_crossentropy', # error para ir calculando en cada iteracion o batch \n",
    "  # Agregamos el accuracy del modelo\n",
    "  metrics=[\n",
    "      'accuracy', \n",
    "      #'sparse_categorical_accuracy'\n",
    "  ], \n",
    ")"
   ]
  },
  {
   "cell_type": "code",
   "execution_count": 226,
   "metadata": {},
   "outputs": [],
   "source": [
    "# Entrenamiento del modelo\n",
    "history = model.fit(\n",
    "    X_train, \n",
    "    y_train, \n",
    "    epochs=epochs, \n",
    "    batch_size=32, \n",
    "    verbose=0, \n",
    "#     initial_epoch=400,\n",
    "    callbacks = [\n",
    "        # https://stackoverflow.com/questions/43906048/keras-early-stopping\n",
    "        # https://machinelearningmastery.com/how-to-stop-training-deep-neural-networks-at-the-right-time-using-early-stopping/\n",
    "        # Early stopping callback is called on every epoch end, compares the best monitored value with the current one and stops if conditions are met\n",
    "       keras.callbacks.callbacks.EarlyStopping(\n",
    "           monitor='val_loss', \n",
    "#            min_delta=0, \n",
    "           patience=15,\n",
    "           verbose=0, \n",
    "           mode='auto', \n",
    "           baseline=None, \n",
    "           restore_best_weights=True)\n",
    "    ],\n",
    "    validation_data = (X_test, y_test),\n",
    "    class_weight = utils.calculate_class_weight(y_train) # acá va esto? o el de train?\n",
    ")"
   ]
  },
  {
   "cell_type": "code",
   "execution_count": 227,
   "metadata": {},
   "outputs": [
    {
     "name": "stdout",
     "output_type": "stream",
     "text": [
      "Model: \"sequential_36\"\n",
      "_________________________________________________________________\n",
      "Layer (type)                 Output Shape              Param #   \n",
      "=================================================================\n",
      "dense_140 (Dense)            (None, 200)               600       \n",
      "_________________________________________________________________\n",
      "dense_141 (Dense)            (None, 100)               20100     \n",
      "_________________________________________________________________\n",
      "dense_142 (Dense)            (None, 20)                2020      \n",
      "_________________________________________________________________\n",
      "dense_143 (Dense)            (None, 6)                 126       \n",
      "=================================================================\n",
      "Total params: 22,846\n",
      "Trainable params: 22,846\n",
      "Non-trainable params: 0\n",
      "_________________________________________________________________\n"
     ]
    }
   ],
   "source": [
    "model.summary()"
   ]
  },
  {
   "cell_type": "code",
   "execution_count": 228,
   "metadata": {},
   "outputs": [
    {
     "name": "stdout",
     "output_type": "stream",
     "text": [
      "              precision    recall  f1-score   support\n",
      "\n",
      "         0.0       0.96      0.99      0.97        76\n",
      "         1.0       0.97      1.00      0.99        75\n",
      "         2.0       0.97      0.94      0.95        88\n",
      "         3.0       1.00      0.97      0.99        74\n",
      "         4.0       1.00      1.00      1.00        75\n",
      "         5.0       1.00      1.00      1.00        62\n",
      "\n",
      "    accuracy                           0.98       450\n",
      "   macro avg       0.98      0.98      0.98       450\n",
      "weighted avg       0.98      0.98      0.98       450\n",
      "\n"
     ]
    }
   ],
   "source": [
    "print(metrics.classification_report(y_test, model.predict_classes(X_test)))"
   ]
  },
  {
   "cell_type": "code",
   "execution_count": 230,
   "metadata": {},
   "outputs": [
    {
     "name": "stdout",
     "output_type": "stream",
     "text": [
      "              precision    recall  f1-score   support\n",
      "\n",
      "         0.0       0.99      1.00      0.99       250\n",
      "         1.0       0.99      1.00      1.00       250\n",
      "         2.0       0.99      0.98      0.98       250\n",
      "         3.0       1.00      0.99      1.00       250\n",
      "         4.0       1.00      1.00      1.00       250\n",
      "         5.0       1.00      1.00      1.00       250\n",
      "\n",
      "    accuracy                           0.99      1500\n",
      "   macro avg       0.99      0.99      0.99      1500\n",
      "weighted avg       0.99      0.99      0.99      1500\n",
      "\n"
     ]
    }
   ],
   "source": [
    "print(metrics.classification_report(y, model.predict_classes(X)))"
   ]
  },
  {
   "cell_type": "markdown",
   "metadata": {},
   "source": [
    "_______________\n",
    "Mostramos la curva de aprendizaje para el error (entropia cruzada) y accuracy cada vez que el modelo mejora."
   ]
  },
  {
   "cell_type": "code",
   "execution_count": 239,
   "metadata": {},
   "outputs": [
    {
     "data": {
      "image/png": "[encoded data removed]",
      "text/plain": [
       "<Figure size 576x576 with 1 Axes>"
      ]
     },
     "metadata": {
      "needs_background": "light"
     },
     "output_type": "display_data"
    },
    {
     "data": {
      "image/png": "[encoded data removed]",
      "text/plain": [
       "<Figure size 576x576 with 1 Axes>"
      ]
     },
     "metadata": {
      "needs_background": "light"
     },
     "output_type": "display_data"
    }
   ],
   "source": [
    "# todas las metricas tienen su nombre en metrics_names\n",
    "# si hay (Xv, yv), entonces aparecen 2 métricas nuevas \"val_mymetricname\"\n",
    "\n",
    "for k, i in zip(list(range(len(model.metrics_names))), model.metrics_names):\n",
    "    plt.figure(figsize=(8,8))\n",
    "    plt.ylim(0,1)\n",
    "    utils.plot_curve(history, i)"
   ]
  },
  {
   "cell_type": "markdown",
   "metadata": {},
   "source": [
    "## Conclusión:\n",
    "- Llegamos a un 99% de accuracy con 3 capas. \n",
    "- Vemos que con los pasos de gradiente, el modelo oscila en loss de test bastante, aunque siempre baja. \n",
    "- Si quitamos el early-stopping, entrena más! pero no se si es necesario. \n",
    "- Hay un tradeoff entre el step del gradiente, la cantidad de épocas y EarlyStopping\n",
    "    - si es muy chico el step, necesita más épocas para overfittear. \n",
    "    - Adam tenía mejor performance que sgd\n",
    "    - EarlyStopping nos permite frenar cuando el modelo no mejora más (en testing)\n",
    "- No usamos un scaler, pero el modelo entrenó bien en este caso. \n",
    "- habría que analizar si son muchas/pocas neuronas.\n",
    "\n",
    "_______________________________________\n",
    "### Anexo: otras utils\n",
    "\n",
    "\n",
    "El modelo en keras puede evaluar las métricas aquí (en orden según metrics_names)"
   ]
  },
  {
   "cell_type": "code",
   "execution_count": 232,
   "metadata": {},
   "outputs": [
    {
     "name": "stdout",
     "output_type": "stream",
     "text": [
      "450/450 [==============================] - 0s 61us/step\n",
      "1050/1050 [==============================] - 0s 74us/step\n"
     ]
    },
    {
     "data": {
      "text/plain": [
       "([0.0909677135750341, 0.9822221994400024], [0.001179094880908018, 1.0])"
      ]
     },
     "execution_count": 232,
     "metadata": {},
     "output_type": "execute_result"
    }
   ],
   "source": [
    "model.evaluate(X_test, y_test), model.evaluate(X_train, y_train)"
   ]
  },
  {
   "cell_type": "code",
   "execution_count": 233,
   "metadata": {},
   "outputs": [
    {
     "data": {
      "text/plain": [
       "0.9821765695090658"
      ]
     },
     "execution_count": 233,
     "metadata": {},
     "output_type": "execute_result"
    }
   ],
   "source": [
    "# se imprime en el reporte\n",
    "metrics.f1_score(y_test, model.predict_classes(X_test), average='weighted')"
   ]
  },
  {
   "cell_type": "code",
   "execution_count": 234,
   "metadata": {},
   "outputs": [
    {
     "data": {
      "text/plain": [
       "0.9822222222222222"
      ]
     },
     "execution_count": 234,
     "metadata": {},
     "output_type": "execute_result"
    }
   ],
   "source": [
    "# se imprime en el reporte\n",
    "metrics.accuracy_score(y_test, model.predict_classes(X_test))"
   ]
  },
  {
   "cell_type": "code",
   "execution_count": 235,
   "metadata": {},
   "outputs": [
    {
     "name": "stdout",
     "output_type": "stream",
     "text": [
      "0.9823535637489127\n"
     ]
    }
   ],
   "source": [
    "# se imprime en el reporte\n",
    "print(metrics.precision_score(y_test, model.predict_classes(X_test), average='weighted'))"
   ]
  },
  {
   "cell_type": "code",
   "execution_count": 236,
   "metadata": {},
   "outputs": [
    {
     "data": {
      "text/plain": [
       "0.9822222222222222"
      ]
     },
     "execution_count": 236,
     "metadata": {},
     "output_type": "execute_result"
    }
   ],
   "source": [
    "# se imprime en el reporte\n",
    "metrics.recall_score(y_test, model.predict_classes(X_test), average='weighted')"
   ]
  },
  {
   "cell_type": "code",
   "execution_count": 237,
   "metadata": {},
   "outputs": [
    {
     "data": {
      "image/png": "[encoded data removed]",
      "text/plain": [
       "<Figure size 432x288 with 2 Axes>"
      ]
     },
     "metadata": {
      "needs_background": "light"
     },
     "output_type": "display_data"
    }
   ],
   "source": [
    "AAPutils.plot_confusion_matrix(y_test, model.predict_classes(X_test))"
   ]
  },
  {
   "cell_type": "code",
   "execution_count": 238,
   "metadata": {},
   "outputs": [
    {
     "data": {
      "text/plain": [
       "<matplotlib.axes._subplots.AxesSubplot at 0x7f95a01eceb8>"
      ]
     },
     "execution_count": 238,
     "metadata": {},
     "output_type": "execute_result"
    },
    {
     "data": {
      "image/png": "[encoded data removed]",
      "text/plain": [
       "<Figure size 576x576 with 1 Axes>"
      ]
     },
     "metadata": {
      "needs_background": "light"
     },
     "output_type": "display_data"
    }
   ],
   "source": [
    "plt.figure(figsize=(8,8))\n",
    "\n",
    "arr = pd.DataFrame(\n",
    "    metrics.confusion_matrix(y_test, model.predict_classes(X_test)),\n",
    "    index=list(range(classes)), \n",
    "    columns=list(range(classes))\n",
    ")\n",
    "\n",
    "sns.heatmap(arr, cmap='YlGnBu',annot=True,fmt=\"d\", cbar=False)"
   ]
  }
 ],
 "metadata": {
  "kernelspec": {
   "display_name": "Python 3",
   "language": "python",
   "name": "python3"
  },
  "language_info": {
   "codemirror_mode": {
    "name": "ipython",
    "version": 3
   },
   "file_extension": ".py",
   "mimetype": "text/x-python",
   "name": "python",
   "nbconvert_exporter": "python",
   "pygments_lexer": "ipython3",
   "version": "3.6.8"
  }
 },
 "nbformat": 4,
 "nbformat_minor": 2
}
