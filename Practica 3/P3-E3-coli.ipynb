{
 "cells": [
  {
   "cell_type": "code",
   "execution_count": 2,
   "metadata": {},
   "outputs": [],
   "source": [
    "import numpy as np\n",
    "import tensorflow as tf\n",
    "import keras\n",
    "import numpy as np\n",
    "import os\n",
    "import seaborn as sns\n",
    "%load_ext autoreload\n",
    "%autoreload 2\n",
    "%matplotlib inline\n",
    "\n",
    "import matplotlib.pyplot as plt\n",
    "import utils\n",
    "import AAPutils\n",
    "import pandas as pd\n",
    "from sklearn import model_selection, metrics, preprocessing\n",
    "from sklearn.compose import ColumnTransformer\n",
    "# plt.rcParams['figure.figsize'] = [8.0, 6.0]"
   ]
  },
  {
   "cell_type": "code",
   "execution_count": 10,
   "metadata": {},
   "outputs": [
    {
     "data": {
      "text/html": [
       "<div>\n",
       "<style scoped>\n",
       "    .dataframe tbody tr th:only-of-type {\n",
       "        vertical-align: middle;\n",
       "    }\n",
       "\n",
       "    .dataframe tbody tr th {\n",
       "        vertical-align: top;\n",
       "    }\n",
       "\n",
       "    .dataframe thead th {\n",
       "        text-align: right;\n",
       "    }\n",
       "</style>\n",
       "<table border=\"1\" class=\"dataframe\">\n",
       "  <thead>\n",
       "    <tr style=\"text-align: right;\">\n",
       "      <th></th>\n",
       "      <th>count</th>\n",
       "      <th>mean</th>\n",
       "      <th>std</th>\n",
       "      <th>min</th>\n",
       "      <th>25%</th>\n",
       "      <th>50%</th>\n",
       "      <th>75%</th>\n",
       "      <th>max</th>\n",
       "    </tr>\n",
       "  </thead>\n",
       "  <tbody>\n",
       "    <tr>\n",
       "      <td>Mcg</td>\n",
       "      <td>336.0</td>\n",
       "      <td>0.500060</td>\n",
       "      <td>0.194634</td>\n",
       "      <td>0.00</td>\n",
       "      <td>0.34</td>\n",
       "      <td>0.500</td>\n",
       "      <td>0.6625</td>\n",
       "      <td>0.89</td>\n",
       "    </tr>\n",
       "    <tr>\n",
       "      <td>Gvh</td>\n",
       "      <td>336.0</td>\n",
       "      <td>0.500000</td>\n",
       "      <td>0.148157</td>\n",
       "      <td>0.16</td>\n",
       "      <td>0.40</td>\n",
       "      <td>0.470</td>\n",
       "      <td>0.5700</td>\n",
       "      <td>1.00</td>\n",
       "    </tr>\n",
       "    <tr>\n",
       "      <td>Lip</td>\n",
       "      <td>336.0</td>\n",
       "      <td>0.495476</td>\n",
       "      <td>0.088495</td>\n",
       "      <td>0.48</td>\n",
       "      <td>0.48</td>\n",
       "      <td>0.480</td>\n",
       "      <td>0.4800</td>\n",
       "      <td>1.00</td>\n",
       "    </tr>\n",
       "    <tr>\n",
       "      <td>Chg</td>\n",
       "      <td>336.0</td>\n",
       "      <td>0.501488</td>\n",
       "      <td>0.027277</td>\n",
       "      <td>0.50</td>\n",
       "      <td>0.50</td>\n",
       "      <td>0.500</td>\n",
       "      <td>0.5000</td>\n",
       "      <td>1.00</td>\n",
       "    </tr>\n",
       "    <tr>\n",
       "      <td>Aac</td>\n",
       "      <td>336.0</td>\n",
       "      <td>0.500030</td>\n",
       "      <td>0.122376</td>\n",
       "      <td>0.00</td>\n",
       "      <td>0.42</td>\n",
       "      <td>0.495</td>\n",
       "      <td>0.5700</td>\n",
       "      <td>0.88</td>\n",
       "    </tr>\n",
       "    <tr>\n",
       "      <td>Alm1</td>\n",
       "      <td>336.0</td>\n",
       "      <td>0.500179</td>\n",
       "      <td>0.215751</td>\n",
       "      <td>0.03</td>\n",
       "      <td>0.33</td>\n",
       "      <td>0.455</td>\n",
       "      <td>0.7100</td>\n",
       "      <td>1.00</td>\n",
       "    </tr>\n",
       "    <tr>\n",
       "      <td>Alm2</td>\n",
       "      <td>336.0</td>\n",
       "      <td>0.499732</td>\n",
       "      <td>0.209411</td>\n",
       "      <td>0.00</td>\n",
       "      <td>0.35</td>\n",
       "      <td>0.430</td>\n",
       "      <td>0.7100</td>\n",
       "      <td>0.99</td>\n",
       "    </tr>\n",
       "  </tbody>\n",
       "</table>\n",
       "</div>"
      ],
      "text/plain": [
       "      count      mean       std   min   25%    50%     75%   max\n",
       "Mcg   336.0  0.500060  0.194634  0.00  0.34  0.500  0.6625  0.89\n",
       "Gvh   336.0  0.500000  0.148157  0.16  0.40  0.470  0.5700  1.00\n",
       "Lip   336.0  0.495476  0.088495  0.48  0.48  0.480  0.4800  1.00\n",
       "Chg   336.0  0.501488  0.027277  0.50  0.50  0.500  0.5000  1.00\n",
       "Aac   336.0  0.500030  0.122376  0.00  0.42  0.495  0.5700  0.88\n",
       "Alm1  336.0  0.500179  0.215751  0.03  0.33  0.455  0.7100  1.00\n",
       "Alm2  336.0  0.499732  0.209411  0.00  0.35  0.430  0.7100  0.99"
      ]
     },
     "execution_count": 10,
     "metadata": {},
     "output_type": "execute_result"
    }
   ],
   "source": [
    "df = pd.read_csv('./datasets/ecoli.csv')\n",
    "df['Class'] = df['Class'].astype('category')\n",
    "df.describe().T"
   ]
  },
  {
   "cell_type": "code",
   "execution_count": 11,
   "metadata": {},
   "outputs": [
    {
     "data": {
      "text/html": [
       "<div>\n",
       "<style scoped>\n",
       "    .dataframe tbody tr th:only-of-type {\n",
       "        vertical-align: middle;\n",
       "    }\n",
       "\n",
       "    .dataframe tbody tr th {\n",
       "        vertical-align: top;\n",
       "    }\n",
       "\n",
       "    .dataframe thead th {\n",
       "        text-align: right;\n",
       "    }\n",
       "</style>\n",
       "<table border=\"1\" class=\"dataframe\">\n",
       "  <thead>\n",
       "    <tr style=\"text-align: right;\">\n",
       "      <th></th>\n",
       "      <th>Class</th>\n",
       "    </tr>\n",
       "  </thead>\n",
       "  <tbody>\n",
       "    <tr>\n",
       "      <td>0.0</td>\n",
       "      <td>316</td>\n",
       "    </tr>\n",
       "    <tr>\n",
       "      <td>1.0</td>\n",
       "      <td>20</td>\n",
       "    </tr>\n",
       "  </tbody>\n",
       "</table>\n",
       "</div>"
      ],
      "text/plain": [
       "     Class\n",
       "0.0    316\n",
       "1.0     20"
      ]
     },
     "execution_count": 11,
     "metadata": {},
     "output_type": "execute_result"
    }
   ],
   "source": [
    "df.Class.value_counts().to_frame()"
   ]
  },
  {
   "cell_type": "code",
   "execution_count": 12,
   "metadata": {},
   "outputs": [
    {
     "data": {
      "image/png": "[encoded data removed]",
      "text/plain": [
       "<Figure size 1080x432 with 7 Axes>"
      ]
     },
     "metadata": {
      "needs_background": "light"
     },
     "output_type": "display_data"
    }
   ],
   "source": [
    "_ = df.plot.box(subplots=True, rot=90, figsize=(15,6))"
   ]
  },
  {
   "cell_type": "code",
   "execution_count": 164,
   "metadata": {},
   "outputs": [],
   "source": [
    "X = df.loc[:,~df.columns.isin(['Class'])].values\n",
    "y = preprocessing.LabelEncoder().fit_transform(df['Class'].values)"
   ]
  },
  {
   "cell_type": "code",
   "execution_count": 141,
   "metadata": {},
   "outputs": [],
   "source": [
    "# solo ejecutar cuando se quiere normalizar\n",
    "ct = ColumnTransformer([\n",
    "    (\"stand0\", preprocessing.StandardScaler(), [0]),\n",
    "    (\"stand1\", preprocessing.StandardScaler(), [1]),\n",
    "    (\"stand2\", preprocessing.StandardScaler(), [2]),\n",
    "    (\"stand3\", preprocessing.StandardScaler(), [3]),\n",
    "    (\"stand4\", preprocessing.StandardScaler(), [4]),\n",
    "    (\"stand5\", preprocessing.StandardScaler(), [5]),\n",
    "    (\"stand6\", preprocessing.StandardScaler(), [6]),\n",
    "])\n",
    "\n",
    "X = ct.fit_transform(X)"
   ]
  },
  {
   "cell_type": "code",
   "execution_count": 165,
   "metadata": {},
   "outputs": [],
   "source": [
    "X_train, X_test, y_train, y_test = model_selection.train_test_split(X, y, test_size=0.3, random_state=7, stratify = y)"
   ]
  },
  {
   "cell_type": "code",
   "execution_count": 166,
   "metadata": {},
   "outputs": [],
   "source": [
    "d_in = X.shape[1]\n",
    "d_out = np.unique(y).size\n",
    "classes = d_out"
   ]
  },
  {
   "cell_type": "code",
   "execution_count": 167,
   "metadata": {},
   "outputs": [
    {
     "data": {
      "text/plain": [
       "(7, 2, (235, 7), (235,), (101, 7), (101,))"
      ]
     },
     "execution_count": 167,
     "metadata": {},
     "output_type": "execute_result"
    }
   ],
   "source": [
    "# verificamos los valores\n",
    "d_in, d_out, X_train.shape, y_train.shape, X_test.shape, y_test.shape,"
   ]
  },
  {
   "cell_type": "code",
   "execution_count": 168,
   "metadata": {},
   "outputs": [
    {
     "data": {
      "text/plain": [
       "({0: 0.9404255319148936, 1: 0.059574468085106386},\n",
       " {0: 0.9405940594059405, 1: 0.0594059405940594})"
      ]
     },
     "execution_count": 168,
     "metadata": {},
     "output_type": "execute_result"
    }
   ],
   "source": [
    "# y_test.reshape(-1,1)\n",
    "utils.calculate_class_weight(y_train), utils.calculate_class_weight(y_test), "
   ]
  },
  {
   "cell_type": "code",
   "execution_count": 169,
   "metadata": {},
   "outputs": [],
   "source": [
    "weight = {\n",
    "   0: 0.8, 1: 0.2\n",
    "}"
   ]
  },
  {
   "cell_type": "code",
   "execution_count": 170,
   "metadata": {},
   "outputs": [],
   "source": [
    "layers = []\n",
    "\n",
    "layer1 = keras.layers.Dense(\n",
    "    100, \n",
    "    input_shape=(d_in,), \n",
    "    activation='relu'\n",
    ")\n",
    "layers.append(layer1)\n",
    "\n",
    "\n",
    "layer2 = keras.layers.Dense(\n",
    "    100, \n",
    "    activation='relu'\n",
    ")\n",
    "layers.append(layer2)\n",
    "\n",
    "\n",
    "# layers.append(\n",
    "#     keras.layers.Dense(\n",
    "#     60, \n",
    "#     activation='relu'\n",
    "# ))\n",
    "\n",
    "# layers.append(keras.layers.Dense(\n",
    "#     10, \n",
    "#     activation='relu'\n",
    "# ))\n",
    "\n",
    "# layers.append(keras.layers.Dense(\n",
    "#     10, \n",
    "#     activation='relu'\n",
    "# ))\n",
    "\n",
    "\n",
    "# https://en.wikipedia.org/wiki/Logit\n",
    "# la ultima capa si o si tiene que tener tantas salidas como clases, y softmax \n",
    "output = keras.layers.Dense(classes, activation='softmax')\n",
    "layers.append(output)\n",
    "\n",
    "# Creo un modelo logístico\n",
    "model = keras.Sequential()\n",
    "\n",
    "for l in layers:\n",
    "    model.add(l)\n",
    "\n",
    "# posibles optimizadores:\n",
    "# https://keras.io/optimizers/\n",
    "\n",
    "alpha = 0.001\n",
    "epochs = 1500\n",
    "\n",
    "model.compile(\n",
    "  optimizer= 'adam',\n",
    "  #optimizer = keras.optimizers.SGD(lr=alpha), \n",
    "  loss='sparse_categorical_crossentropy', # error para ir calculando en cada iteracion o batch \n",
    "  # Agregamos el accuracy del modelo\n",
    "  metrics=[\n",
    "      'accuracy', \n",
    "      #'sparse_categorical_accuracy'\n",
    "  ], \n",
    ")"
   ]
  },
  {
   "cell_type": "code",
   "execution_count": 1,
   "metadata": {},
   "outputs": [
    {
     "ename": "NameError",
     "evalue": "name 'model' is not defined",
     "output_type": "error",
     "traceback": [
      "\u001b[0;31m---------------------------------------------------------------------------\u001b[0m",
      "\u001b[0;31mNameError\u001b[0m                                 Traceback (most recent call last)",
      "\u001b[0;32m<ipython-input-1-447e27b28e3e>\u001b[0m in \u001b[0;36m<module>\u001b[0;34m\u001b[0m\n\u001b[1;32m      1\u001b[0m \u001b[0;31m# Entrenamiento del modelo\u001b[0m\u001b[0;34m\u001b[0m\u001b[0;34m\u001b[0m\u001b[0;34m\u001b[0m\u001b[0m\n\u001b[0;32m----> 2\u001b[0;31m history = model.fit(\n\u001b[0m\u001b[1;32m      3\u001b[0m     \u001b[0mX_train\u001b[0m\u001b[0;34m,\u001b[0m\u001b[0;34m\u001b[0m\u001b[0;34m\u001b[0m\u001b[0m\n\u001b[1;32m      4\u001b[0m     \u001b[0my_train\u001b[0m\u001b[0;34m,\u001b[0m\u001b[0;34m\u001b[0m\u001b[0;34m\u001b[0m\u001b[0m\n\u001b[1;32m      5\u001b[0m     \u001b[0mepochs\u001b[0m\u001b[0;34m=\u001b[0m\u001b[0mepochs\u001b[0m\u001b[0;34m,\u001b[0m\u001b[0;34m\u001b[0m\u001b[0;34m\u001b[0m\u001b[0m\n",
      "\u001b[0;31mNameError\u001b[0m: name 'model' is not defined"
     ]
    }
   ],
   "source": [
    "# Entrenamiento del modelo\n",
    "history = model.fit(\n",
    "    X_train, \n",
    "    y_train, \n",
    "    epochs=epochs, \n",
    "    batch_size=32, \n",
    "    verbose=0, \n",
    "#     initial_epoch=400,\n",
    "    callbacks = [\n",
    "        # https://stackoverflow.com/questions/43906048/keras-early-stopping\n",
    "        # https://machinelearningmastery.com/how-to-stop-training-deep-neural-networks-at-the-right-time-using-early-stopping/\n",
    "        # Early stopping callback is called on every epoch end, compares the best monitored value with the current one and stops if conditions are met\n",
    "       keras.callbacks.callbacks.EarlyStopping(\n",
    "           monitor='val_loss', \n",
    "#            min_delta=0, \n",
    "           patience=50,\n",
    "           verbose=0, \n",
    "           mode='auto', \n",
    "#            baseline=0.3, \n",
    "           restore_best_weights=True\n",
    "       )\n",
    "    ],\n",
    "    validation_data = (X_test, y_test),\n",
    "    class_weight = weight # acá va esto? o el de train?\n",
    ")\n",
    "model.summary()"
   ]
  },
  {
   "cell_type": "code",
   "execution_count": 172,
   "metadata": {},
   "outputs": [
    {
     "name": "stdout",
     "output_type": "stream",
     "text": [
      "==========\n",
      "TEST SCORES\n",
      "              precision    recall  f1-score   support\n",
      "\n",
      "           0       0.99      1.00      0.99        95\n",
      "           1       1.00      0.83      0.91         6\n",
      "\n",
      "    accuracy                           0.99       101\n",
      "   macro avg       0.99      0.92      0.95       101\n",
      "weighted avg       0.99      0.99      0.99       101\n",
      "\n",
      "['loss', 'accuracy']\n",
      "101/101 [==============================] - 0s 46us/step\n",
      "[0.07338667520792178, 0.9900990128517151]\n",
      "==========\n",
      "TRAIN SCORES\n",
      "              precision    recall  f1-score   support\n",
      "\n",
      "           0       0.99      1.00      1.00       221\n",
      "           1       1.00      0.86      0.92        14\n",
      "\n",
      "    accuracy                           0.99       235\n",
      "   macro avg       1.00      0.93      0.96       235\n",
      "weighted avg       0.99      0.99      0.99       235\n",
      "\n",
      "['loss', 'accuracy']\n",
      "235/235 [==============================] - 0s 55us/step\n",
      "[0.026917766137643063, 0.9914893507957458]\n"
     ]
    }
   ],
   "source": [
    "print(10*\"=\")\n",
    "print(\"TEST SCORES\")\n",
    "print(metrics.classification_report(y_test, model.predict_classes(X_test)))\n",
    "print(model.metrics_names)\n",
    "print(model.evaluate(X_test, y_test))\n",
    "print(10*\"=\")\n",
    "print(\"TRAIN SCORES\")\n",
    "print(metrics.classification_report(y_train, model.predict_classes(X_train)))\n",
    "print(model.metrics_names)\n",
    "print(model.evaluate(X_train, y_train))"
   ]
  },
  {
   "cell_type": "code",
   "execution_count": 173,
   "metadata": {},
   "outputs": [
    {
     "data": {
      "image/png": "[encoded data removed]",
      "text/plain": [
       "<Figure size 576x576 with 1 Axes>"
      ]
     },
     "metadata": {
      "needs_background": "light"
     },
     "output_type": "display_data"
    },
    {
     "data": {
      "image/png": "[encoded data removed]",
      "text/plain": [
       "<Figure size 576x576 with 1 Axes>"
      ]
     },
     "metadata": {
      "needs_background": "light"
     },
     "output_type": "display_data"
    }
   ],
   "source": [
    "for k, i in zip(list(range(len(model.metrics_names))), model.metrics_names):\n",
    "    plt.figure(figsize=(8,8))\n",
    "    plt.ylim(0,1)\n",
    "    utils.plot_curve(history, i)"
   ]
  },
  {
   "cell_type": "code",
   "execution_count": 174,
   "metadata": {},
   "outputs": [
    {
     "data": {
      "image/png": "[encoded data removed]",
      "text/plain": [
       "<Figure size 432x288 with 1 Axes>"
      ]
     },
     "metadata": {
      "needs_background": "light"
     },
     "output_type": "display_data"
    },
    {
     "data": {
      "image/png": "[encoded data removed]",
      "text/plain": [
       "<Figure size 432x288 with 1 Axes>"
      ]
     },
     "metadata": {
      "needs_background": "light"
     },
     "output_type": "display_data"
    }
   ],
   "source": [
    "AAPutils.plot_ROC_curve(model, X_test, y_test)"
   ]
  },
  {
   "cell_type": "code",
   "execution_count": 163,
   "metadata": {},
   "outputs": [
    {
     "name": "stdout",
     "output_type": "stream",
     "text": [
      "[[93  2]\n",
      " [ 1  5]]\n"
     ]
    }
   ],
   "source": [
    "print(metrics.confusion_matrix(y_test, model.predict_classes(X_test)))"
   ]
  },
  {
   "cell_type": "markdown",
   "metadata": {},
   "source": [
    "## Conclusiones\n",
    "Hicimos train_test_split de manera \"stratify\".\n",
    "\n",
    "___\n",
    "### 1 capa\n",
    "\n",
    "con una capa de 10 neuronas, nuestro modelo obtiene acc de .94 en testing en aprox 70 epochs.\n",
    "Si vemos el F1 score, es muy bueno para 0 (.97) pero malo para 1 (0). El acc es engañoso. \n",
    "Empieza a overfittear en 10 epochs. \n",
    "El loss es prácticamente el mismo ara los dos: \n",
    "```TEST f1: {1:0 0:.97}, ROC: 0.06 (malisimo), acc: .94, weight: { 0: 0.95, 1: 0.05 },```\n",
    "\n",
    "Cambiando el peso, parece que las métricas mejoraron\n",
    "```TEST f1: {1:0 0:.97}, ROC: 0.37 (malisimo), acc: .94, weight: { 0: 0.8, 1: 0.2 },```\n",
    "\n",
    "Con una capa de 100 neuronas, empieza a overfittear en 120 epochs. Mejora el acc en test: 0.98. Empezó a detectar ejemplos de la clase 1. ROC mejoró\n",
    "```TEST f1: {1:0.83 0:.92}, ROC: 0.97 (malisimo), acc: .94, weight: { 0: 0.8, 1: 0.2 },```\n",
    "- 0       0.99      0.99      0.99        95\n",
    "- 1       0.83      0.83      0.83         6\n",
    "Si vemos la precision y recall es la misma.  Alteramos los pesos.  ```weight: { 0: 0.6, 1: 0.4 },```\n",
    "- 0       0.99      0.98      0.98        95\n",
    "- 1       0.71      0.83      0.77         6\n",
    "Parece que el anterior peso es mejor . Si ponemos el que corresponde (0.9-0.1) no detecta casos de 1. \n",
    "\n",
    "\n",
    "Con una segunda capa de 50 neuronas, mejoraron las detecciónes de 1. En 60 aprox comienza a overfittear.\n",
    "El acc es de 0.99, ROC 0.97. El f1 en 1 mejoró mucho.\n",
    "- 0       0.99      1.00      0.99        95\n",
    "- 1       1.00      0.83      0.91         6\n",
    "\n",
    "Con una capa de 100 neuronas, no tuvo mejoras. Parece que el modelo llegó a su tope.\n",
    " - 0       0.99      1.00      0.99        95\n",
    " - 1       1.00      0.83      0.91         6\n",
    "Incluso, agregando otra capa obtenemos los mismos resultados. \n",
    "\n",
    "Si realizamos normalizamos los datos (StandardScaler), empeora nuestra precisión.\n",
    "- 0       0.99      0.98      0.98        95\n",
    "- 1       0.71      0.83      0.77         6"
   ]
  },
  {
   "cell_type": "code",
   "execution_count": null,
   "metadata": {},
   "outputs": [],
   "source": [
    "    "
   ]
  },
  {
   "cell_type": "code",
   "execution_count": null,
   "metadata": {},
   "outputs": [],
   "source": []
  }
 ],
 "metadata": {
  "kernelspec": {
   "display_name": "Python 3",
   "language": "python",
   "name": "python3"
  },
  "language_info": {
   "codemirror_mode": {
    "name": "ipython",
    "version": 3
   },
   "file_extension": ".py",
   "mimetype": "text/x-python",
   "name": "python",
   "nbconvert_exporter": "python",
   "pygments_lexer": "ipython3",
   "version": "3.6.8"
  }
 },
 "nbformat": 4,
 "nbformat_minor": 2
}
