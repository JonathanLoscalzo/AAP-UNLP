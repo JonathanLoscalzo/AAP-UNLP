{
 "cells": [
  {
   "cell_type": "code",
   "execution_count": null,
   "metadata": {},
   "outputs": [],
   "source": [
    "## Titanic with keras"
   ]
  },
  {
   "cell_type": "code",
   "execution_count": 1,
   "metadata": {},
   "outputs": [],
   "source": [
    "import numpy as np\n",
    "import tensorflow as tf\n",
    "import keras\n",
    "import numpy as np\n",
    "import os\n",
    "import seaborn as sns\n",
    "%load_ext autoreload\n",
    "%autoreload 2\n",
    "%matplotlib inline\n",
    "\n",
    "import matplotlib.pyplot as plt\n",
    "import utils\n",
    "import AAPutils\n",
    "import pandas as pd\n",
    "from sklearn import model_selection, metrics, preprocessing\n",
    "from sklearn.compose import ColumnTransformer\n",
    "# plt.rcParams['figure.figsize'] = [8.0, 6.0]"
   ]
  },
  {
   "cell_type": "code",
   "execution_count": 2,
   "metadata": {},
   "outputs": [
    {
     "data": {
      "text/html": [
       "<div>\n",
       "<style scoped>\n",
       "    .dataframe tbody tr th:only-of-type {\n",
       "        vertical-align: middle;\n",
       "    }\n",
       "\n",
       "    .dataframe tbody tr th {\n",
       "        vertical-align: top;\n",
       "    }\n",
       "\n",
       "    .dataframe thead th {\n",
       "        text-align: right;\n",
       "    }\n",
       "</style>\n",
       "<table border=\"1\" class=\"dataframe\">\n",
       "  <thead>\n",
       "    <tr style=\"text-align: right;\">\n",
       "      <th></th>\n",
       "      <th>count</th>\n",
       "      <th>mean</th>\n",
       "      <th>std</th>\n",
       "      <th>min</th>\n",
       "      <th>25%</th>\n",
       "      <th>50%</th>\n",
       "      <th>75%</th>\n",
       "      <th>max</th>\n",
       "    </tr>\n",
       "  </thead>\n",
       "  <tbody>\n",
       "    <tr>\n",
       "      <td>pclass</td>\n",
       "      <td>1045.0</td>\n",
       "      <td>2.206699</td>\n",
       "      <td>0.841542</td>\n",
       "      <td>1.0000</td>\n",
       "      <td>1.00</td>\n",
       "      <td>2.00</td>\n",
       "      <td>3.0</td>\n",
       "      <td>3.0000</td>\n",
       "    </tr>\n",
       "    <tr>\n",
       "      <td>fare</td>\n",
       "      <td>1045.0</td>\n",
       "      <td>36.686080</td>\n",
       "      <td>55.732533</td>\n",
       "      <td>0.0000</td>\n",
       "      <td>8.05</td>\n",
       "      <td>15.75</td>\n",
       "      <td>35.5</td>\n",
       "      <td>512.3292</td>\n",
       "    </tr>\n",
       "    <tr>\n",
       "      <td>age</td>\n",
       "      <td>1045.0</td>\n",
       "      <td>29.851834</td>\n",
       "      <td>14.389201</td>\n",
       "      <td>0.1667</td>\n",
       "      <td>21.00</td>\n",
       "      <td>28.00</td>\n",
       "      <td>39.0</td>\n",
       "      <td>80.0000</td>\n",
       "    </tr>\n",
       "    <tr>\n",
       "      <td>sex</td>\n",
       "      <td>1045.0</td>\n",
       "      <td>0.628708</td>\n",
       "      <td>0.483382</td>\n",
       "      <td>0.0000</td>\n",
       "      <td>0.00</td>\n",
       "      <td>1.00</td>\n",
       "      <td>1.0</td>\n",
       "      <td>1.0000</td>\n",
       "    </tr>\n",
       "    <tr>\n",
       "      <td>sibsp</td>\n",
       "      <td>1045.0</td>\n",
       "      <td>0.503349</td>\n",
       "      <td>0.912471</td>\n",
       "      <td>0.0000</td>\n",
       "      <td>0.00</td>\n",
       "      <td>0.00</td>\n",
       "      <td>1.0</td>\n",
       "      <td>8.0000</td>\n",
       "    </tr>\n",
       "    <tr>\n",
       "      <td>parch</td>\n",
       "      <td>1045.0</td>\n",
       "      <td>0.421053</td>\n",
       "      <td>0.840052</td>\n",
       "      <td>0.0000</td>\n",
       "      <td>0.00</td>\n",
       "      <td>0.00</td>\n",
       "      <td>1.0</td>\n",
       "      <td>6.0000</td>\n",
       "    </tr>\n",
       "    <tr>\n",
       "      <td>survived</td>\n",
       "      <td>1045.0</td>\n",
       "      <td>0.408612</td>\n",
       "      <td>0.491813</td>\n",
       "      <td>0.0000</td>\n",
       "      <td>0.00</td>\n",
       "      <td>0.00</td>\n",
       "      <td>1.0</td>\n",
       "      <td>1.0000</td>\n",
       "    </tr>\n",
       "  </tbody>\n",
       "</table>\n",
       "</div>"
      ],
      "text/plain": [
       "           count       mean        std     min    25%    50%   75%       max\n",
       "pclass    1045.0   2.206699   0.841542  1.0000   1.00   2.00   3.0    3.0000\n",
       "fare      1045.0  36.686080  55.732533  0.0000   8.05  15.75  35.5  512.3292\n",
       "age       1045.0  29.851834  14.389201  0.1667  21.00  28.00  39.0   80.0000\n",
       "sex       1045.0   0.628708   0.483382  0.0000   0.00   1.00   1.0    1.0000\n",
       "sibsp     1045.0   0.503349   0.912471  0.0000   0.00   0.00   1.0    8.0000\n",
       "parch     1045.0   0.421053   0.840052  0.0000   0.00   0.00   1.0    6.0000\n",
       "survived  1045.0   0.408612   0.491813  0.0000   0.00   0.00   1.0    1.0000"
      ]
     },
     "execution_count": 2,
     "metadata": {},
     "output_type": "execute_result"
    }
   ],
   "source": [
    "df = pd.read_csv('./datasets/titanic.csv')\n",
    "df.describe().T"
   ]
  },
  {
   "cell_type": "code",
   "execution_count": 3,
   "metadata": {},
   "outputs": [],
   "source": [
    "# df.loc[:,['fare', 'age']] = df.loc[:,['fare', 'age']].astype('float')"
   ]
  },
  {
   "cell_type": "code",
   "execution_count": 4,
   "metadata": {},
   "outputs": [
    {
     "data": {
      "image/png": "[encoded data removed]",
      "text/plain": [
       "<Figure size 1080x432 with 7 Axes>"
      ]
     },
     "metadata": {
      "needs_background": "light"
     },
     "output_type": "display_data"
    }
   ],
   "source": [
    "_ = df.plot.box(subplots=True, rot=90, figsize=(15,6))"
   ]
  },
  {
   "cell_type": "code",
   "execution_count": 5,
   "metadata": {},
   "outputs": [],
   "source": [
    "# _ = df.plot.hist(subplots=True, rot=90, figsize=(10,15))"
   ]
  },
  {
   "cell_type": "code",
   "execution_count": 6,
   "metadata": {},
   "outputs": [],
   "source": [
    "# podríamos transformar las categorias en one_hot: pclass y sex\n",
    "# onehot_encoder = preprocessing.OneHotEncoder(sparse=False, handle_unknown='ignore')\n",
    "# onehot_encoder.fit_transform(df[['pclass']])\n",
    "# onehot_encoder.categories_[0]"
   ]
  },
  {
   "cell_type": "code",
   "execution_count": 146,
   "metadata": {},
   "outputs": [],
   "source": [
    "X = df.loc[:,~df.columns.isin(['survived'])].values\n",
    "y = df['survived'].values"
   ]
  },
  {
   "cell_type": "code",
   "execution_count": 147,
   "metadata": {},
   "outputs": [],
   "source": [
    "# intento 1\n",
    "# X = preprocessing.StandardScaler().fit_transform(X)\n",
    "\n",
    "ct = ColumnTransformer([\n",
    "    (\"1h-pclass\", 'passthrough', [0]),\n",
    "    (\"stand1\", preprocessing.StandardScaler(), [1]),\n",
    "    (\"stand2\", preprocessing.StandardScaler(), [2]),\n",
    "    (\"1h-sex\", 'passthrough', [3]),\n",
    "    (\"stand4\", preprocessing.StandardScaler(), [4]),\n",
    "    (\"stand5\", preprocessing.StandardScaler(), [5]),\n",
    "])\n",
    "X = ct.fit_transform(X)\n"
   ]
  },
  {
   "cell_type": "code",
   "execution_count": 148,
   "metadata": {},
   "outputs": [],
   "source": [
    "# intento 2\n",
    "# 0 y 3 son categoricas\n",
    "# ct = ColumnTransformer([\n",
    "#     (\"1h-pclass\", preprocessing.OneHotEncoder(categories='auto'), [0]),\n",
    "#     (\"stand1\", preprocessing.StandardScaler(), [1]),\n",
    "#     (\"stand2\", preprocessing.StandardScaler(), [2]),\n",
    "#     (\"1h-sex\", preprocessing.OneHotEncoder(categories='auto'), [3]),\n",
    "#     (\"stand4\", preprocessing.StandardScaler(), [4]),\n",
    "#     (\"stand5\", preprocessing.StandardScaler(), [5]),\n",
    "    \n",
    "# ])\n",
    "# X = ct.fit_transform(X)\n",
    "# 1 2 4 5 son númericas\n"
   ]
  },
  {
   "cell_type": "code",
   "execution_count": 149,
   "metadata": {},
   "outputs": [],
   "source": [
    "X_train, X_test, y_train, y_test = model_selection.train_test_split(X,y, test_size=0.3, random_state=7)"
   ]
  },
  {
   "cell_type": "code",
   "execution_count": 150,
   "metadata": {},
   "outputs": [],
   "source": [
    "d_in = X.shape[1]\n",
    "d_out = np.unique(y).size\n",
    "classes = d_out"
   ]
  },
  {
   "cell_type": "code",
   "execution_count": 151,
   "metadata": {},
   "outputs": [
    {
     "data": {
      "text/plain": [
       "(6, 2, (731, 6), (731,), (314, 6), (314,))"
      ]
     },
     "execution_count": 151,
     "metadata": {},
     "output_type": "execute_result"
    }
   ],
   "source": [
    "# verificamos los valores\n",
    "d_in, d_out, X_train.shape, y_train.shape, X_test.shape, y_test.shape,"
   ]
  },
  {
   "cell_type": "code",
   "execution_count": 152,
   "metadata": {},
   "outputs": [
    {
     "data": {
      "text/plain": [
       "{0: 0.5937072503419972, 1: 0.4062927496580027}"
      ]
     },
     "execution_count": 152,
     "metadata": {},
     "output_type": "execute_result"
    }
   ],
   "source": [
    "# y_test.reshape(-1,1)\n",
    "utils.calculate_class_weight(y_train)"
   ]
  },
  {
   "cell_type": "code",
   "execution_count": 153,
   "metadata": {},
   "outputs": [],
   "source": [
    "weight = {\n",
    "    0: 0.55, 1: 0.45\n",
    "}"
   ]
  },
  {
   "cell_type": "code",
   "execution_count": 154,
   "metadata": {},
   "outputs": [],
   "source": [
    "layers = []\n",
    "\n",
    "layer1 = keras.layers.Dense(\n",
    "    20, \n",
    "    input_shape=(d_in,), \n",
    "    activation='relu'\n",
    ")\n",
    "layers.append(layer1)\n",
    "\n",
    "\n",
    "layer2 = keras.layers.Dense(\n",
    "    10, \n",
    "    activation='relu'\n",
    ")\n",
    "layers.append(layer2)\n",
    "\n",
    "\n",
    "layers.append(\n",
    "    keras.layers.Dense(\n",
    "    10, \n",
    "    activation='relu'\n",
    "))\n",
    "\n",
    "layers.append(keras.layers.Dense(\n",
    "    10, \n",
    "    activation='relu'\n",
    "))\n",
    "\n",
    "layers.append(keras.layers.Dense(\n",
    "    10, \n",
    "    activation='relu'\n",
    "))\n",
    "\n",
    "\n",
    "# https://en.wikipedia.org/wiki/Logit\n",
    "# la ultima capa si o si tiene que tener tantas salidas como clases, y softmax \n",
    "output = keras.layers.Dense(classes, activation='softmax')\n",
    "layers.append(output)\n",
    "\n",
    "# Creo un modelo logístico\n",
    "model = keras.Sequential()\n",
    "\n",
    "for l in layers:\n",
    "    model.add(l)\n",
    "\n",
    "# posibles optimizadores:\n",
    "# https://keras.io/optimizers/\n",
    "\n",
    "alpha = 0.01\n",
    "epochs = 1500\n",
    "\n",
    "model.compile(\n",
    "  optimizer= keras.optimizers.SGD(lr=alpha), \n",
    "  loss='sparse_categorical_crossentropy', # error para ir calculando en cada iteracion o batch \n",
    "  # Agregamos el accuracy del modelo\n",
    "  metrics=[\n",
    "      'accuracy', \n",
    "      #'sparse_categorical_accuracy'\n",
    "  ], \n",
    ")"
   ]
  },
  {
   "cell_type": "code",
   "execution_count": 155,
   "metadata": {},
   "outputs": [],
   "source": [
    "# Entrenamiento del modelo\n",
    "history = model.fit(\n",
    "    X_train, \n",
    "    y_train, \n",
    "    epochs=epochs, \n",
    "    batch_size=32, \n",
    "    verbose=0, \n",
    "#     initial_epoch=400,\n",
    "    callbacks = [\n",
    "        # https://stackoverflow.com/questions/43906048/keras-early-stopping\n",
    "        # https://machinelearningmastery.com/how-to-stop-training-deep-neural-networks-at-the-right-time-using-early-stopping/\n",
    "        # Early stopping callback is called on every epoch end, compares the best monitored value with the current one and stops if conditions are met\n",
    "       keras.callbacks.callbacks.EarlyStopping(\n",
    "           monitor='val_loss', \n",
    "#            min_delta=0, \n",
    "           patience=50,\n",
    "           verbose=0, \n",
    "           mode='auto', \n",
    "#            baseline=0.3, \n",
    "           restore_best_weights=True\n",
    "       )\n",
    "    ],\n",
    "    validation_data = (X_test, y_test),\n",
    "    class_weight = weight # acá va esto? o el de train?\n",
    ")"
   ]
  },
  {
   "cell_type": "code",
   "execution_count": 156,
   "metadata": {},
   "outputs": [
    {
     "name": "stdout",
     "output_type": "stream",
     "text": [
      "Model: \"sequential_15\"\n",
      "_________________________________________________________________\n",
      "Layer (type)                 Output Shape              Param #   \n",
      "=================================================================\n",
      "dense_76 (Dense)             (None, 20)                140       \n",
      "_________________________________________________________________\n",
      "dense_77 (Dense)             (None, 10)                210       \n",
      "_________________________________________________________________\n",
      "dense_78 (Dense)             (None, 10)                110       \n",
      "_________________________________________________________________\n",
      "dense_79 (Dense)             (None, 10)                110       \n",
      "_________________________________________________________________\n",
      "dense_80 (Dense)             (None, 10)                110       \n",
      "_________________________________________________________________\n",
      "dense_81 (Dense)             (None, 2)                 22        \n",
      "=================================================================\n",
      "Total params: 702\n",
      "Trainable params: 702\n",
      "Non-trainable params: 0\n",
      "_________________________________________________________________\n"
     ]
    }
   ],
   "source": [
    "model.summary()"
   ]
  },
  {
   "cell_type": "code",
   "execution_count": 157,
   "metadata": {},
   "outputs": [
    {
     "name": "stdout",
     "output_type": "stream",
     "text": [
      "              precision    recall  f1-score   support\n",
      "\n",
      "           0       0.79      0.91      0.84       184\n",
      "           1       0.84      0.65      0.73       130\n",
      "\n",
      "    accuracy                           0.80       314\n",
      "   macro avg       0.81      0.78      0.79       314\n",
      "weighted avg       0.81      0.80      0.80       314\n",
      "\n"
     ]
    }
   ],
   "source": [
    "print(metrics.classification_report(y_test, model.predict_classes(X_test)))"
   ]
  },
  {
   "cell_type": "code",
   "execution_count": 158,
   "metadata": {},
   "outputs": [
    {
     "name": "stdout",
     "output_type": "stream",
     "text": [
      "              precision    recall  f1-score   support\n",
      "\n",
      "           0       0.82      0.91      0.86       434\n",
      "           1       0.84      0.70      0.76       297\n",
      "\n",
      "    accuracy                           0.82       731\n",
      "   macro avg       0.83      0.80      0.81       731\n",
      "weighted avg       0.83      0.82      0.82       731\n",
      "\n"
     ]
    }
   ],
   "source": [
    "print(metrics.classification_report(y_train, model.predict_classes(X_train)))"
   ]
  },
  {
   "cell_type": "code",
   "execution_count": 159,
   "metadata": {},
   "outputs": [
    {
     "data": {
      "image/png": "[encoded data removed]",
      "text/plain": [
       "<Figure size 576x576 with 1 Axes>"
      ]
     },
     "metadata": {
      "needs_background": "light"
     },
     "output_type": "display_data"
    },
    {
     "data": {
      "image/png": "[encoded data removed]",
      "text/plain": [
       "<Figure size 576x576 with 1 Axes>"
      ]
     },
     "metadata": {
      "needs_background": "light"
     },
     "output_type": "display_data"
    }
   ],
   "source": [
    "for k, i in zip(list(range(len(model.metrics_names))), model.metrics_names):\n",
    "    plt.figure(figsize=(8,8))\n",
    "    plt.ylim(0,1)\n",
    "    utils.plot_curve(history, i)"
   ]
  },
  {
   "cell_type": "code",
   "execution_count": 160,
   "metadata": {},
   "outputs": [
    {
     "data": {
      "image/png": "[encoded data removed]",
      "text/plain": [
       "<Figure size 432x288 with 2 Axes>"
      ]
     },
     "metadata": {
      "needs_background": "light"
     },
     "output_type": "display_data"
    }
   ],
   "source": [
    "AAPutils.plot_confusion_matrix(y_test, model.predict_classes(X_test))"
   ]
  },
  {
   "cell_type": "code",
   "execution_count": 161,
   "metadata": {},
   "outputs": [
    {
     "data": {
      "image/png": "[encoded data removed]",
      "text/plain": [
       "<Figure size 432x288 with 1 Axes>"
      ]
     },
     "metadata": {
      "needs_background": "light"
     },
     "output_type": "display_data"
    },
    {
     "data": {
      "image/png": "[encoded data removed]",
      "text/plain": [
       "<Figure size 432x288 with 1 Axes>"
      ]
     },
     "metadata": {
      "needs_background": "light"
     },
     "output_type": "display_data"
    }
   ],
   "source": [
    "AAPutils.plot_ROC_curve(model, X_test, y_test)"
   ]
  },
  {
   "cell_type": "markdown",
   "metadata": {},
   "source": [
    "### Conclusiones\n",
    "sin escalar los valores\n",
    "- 1 sola capa, epochs = 700 \n",
    "    - el modelo frena en 200 épocas.\n",
    "    - el f1score en test es 0.8 aprox\n",
    "    - el f1-score en train es 0.85\n",
    "    - probamos con más neuronas pero no aprende más: óptimo (por ahora) 150-180\n",
    "- 2 capas, epochs = 700\n",
    "    - Tarda un poco más en entrenar\n",
    "    - en 100 epocas empieza a overfitear. Si pongo el earlystopping para en 200 de nuevo\n",
    "    - entre 50 y 150 neuronaes tengo el mismo resultado\n",
    "    - resultados similares a la solución de arriba\n",
    "- 3 capas, epochs = 700\n",
    "    - en 100 epocas empieza a overfittear. a los 20\n",
    "\n",
    "- escalando los datos\n",
    "- escalamos todas las columnas (hasta pclass)\n",
    "- 1 sola capa, epochs = 700\n",
    "    - overfitting temprano (50 epochs, 150 neuronas)\n",
    "    - No hay mejoras entre 50 y 150 neuronas\n",
    "    - f1 menor .8 en testing\n",
    "    - f1 mayor a .85 en train\n",
    "- 2 capas\n",
    "    - con 300->150 se sobreentrena mucho\n",
    "    - sgd es un poco más suave que adam\n",
    "    - step0.005 y epocs 700, hizo early en 400 epocas aprox. f1: 81 para ambos\n",
    "    - 20->10 tiene la misma perfrmance que cualquier combinación grande\n",
    "    - ahí, aprox en 100 ya comienza a overfittear\n",
    "    \n",
    "- Con one-hot y standardScaler, 2 capas, no hubo mejora, siempre en 0.82\n",
    "- agregué 5 capas y el modelo no tuvo mejoría. 0.8x tantos es el resultado final\n",
    "- con paramétros más grandes: alpha 0.01 y epochs 1500 siempre llega a 0.8 capa 1 de 512 neuronas\n",
    "- cambié los weights y tampoco.\n",
    "\n",
    "- entender como leer ROC y precision-recall curve\n"
   ]
  },
  {
   "cell_type": "code",
   "execution_count": 311,
   "metadata": {},
   "outputs": [
    {
     "name": "stdout",
     "output_type": "stream",
     "text": [
      "[0]\tvalidation_0-logloss:0.649998\tvalidation_1-logloss:0.649178\n",
      "[1]\tvalidation_0-logloss:0.614494\tvalidation_1-logloss:0.613245\n",
      "[2]\tvalidation_0-logloss:0.584909\tvalidation_1-logloss:0.583401\n",
      "[3]\tvalidation_0-logloss:0.560241\tvalidation_1-logloss:0.558876\n",
      "[4]\tvalidation_0-logloss:0.539142\tvalidation_1-logloss:0.537892\n",
      "[5]\tvalidation_0-logloss:0.521411\tvalidation_1-logloss:0.519883\n",
      "[6]\tvalidation_0-logloss:0.506124\tvalidation_1-logloss:0.505539\n",
      "[7]\tvalidation_0-logloss:0.493053\tvalidation_1-logloss:0.492857\n",
      "[8]\tvalidation_0-logloss:0.481923\tvalidation_1-logloss:0.482386\n",
      "[9]\tvalidation_0-logloss:0.472301\tvalidation_1-logloss:0.474279\n",
      "[10]\tvalidation_0-logloss:0.463799\tvalidation_1-logloss:0.466336\n",
      "[11]\tvalidation_0-logloss:0.456482\tvalidation_1-logloss:0.460459\n",
      "[12]\tvalidation_0-logloss:0.450152\tvalidation_1-logloss:0.456139\n",
      "[13]\tvalidation_0-logloss:0.444336\tvalidation_1-logloss:0.451558\n",
      "[14]\tvalidation_0-logloss:0.438965\tvalidation_1-logloss:0.44785\n",
      "[15]\tvalidation_0-logloss:0.434248\tvalidation_1-logloss:0.444914\n",
      "[16]\tvalidation_0-logloss:0.430015\tvalidation_1-logloss:0.442353\n",
      "[17]\tvalidation_0-logloss:0.426558\tvalidation_1-logloss:0.440232\n",
      "[18]\tvalidation_0-logloss:0.423209\tvalidation_1-logloss:0.439126\n",
      "[19]\tvalidation_0-logloss:0.420284\tvalidation_1-logloss:0.437587\n",
      "[20]\tvalidation_0-logloss:0.417709\tvalidation_1-logloss:0.436224\n",
      "[21]\tvalidation_0-logloss:0.415344\tvalidation_1-logloss:0.43557\n",
      "[22]\tvalidation_0-logloss:0.413387\tvalidation_1-logloss:0.435251\n",
      "[23]\tvalidation_0-logloss:0.4108\tvalidation_1-logloss:0.434279\n",
      "[24]\tvalidation_0-logloss:0.408987\tvalidation_1-logloss:0.433559\n",
      "[25]\tvalidation_0-logloss:0.406294\tvalidation_1-logloss:0.43377\n",
      "[26]\tvalidation_0-logloss:0.404721\tvalidation_1-logloss:0.434455\n",
      "[27]\tvalidation_0-logloss:0.402666\tvalidation_1-logloss:0.432619\n",
      "[28]\tvalidation_0-logloss:0.400714\tvalidation_1-logloss:0.432752\n",
      "[29]\tvalidation_0-logloss:0.39878\tvalidation_1-logloss:0.432304\n",
      "[30]\tvalidation_0-logloss:0.397425\tvalidation_1-logloss:0.43269\n",
      "[31]\tvalidation_0-logloss:0.395787\tvalidation_1-logloss:0.432923\n",
      "[32]\tvalidation_0-logloss:0.393804\tvalidation_1-logloss:0.432253\n",
      "[33]\tvalidation_0-logloss:0.392475\tvalidation_1-logloss:0.431423\n",
      "[34]\tvalidation_0-logloss:0.39137\tvalidation_1-logloss:0.43192\n",
      "[35]\tvalidation_0-logloss:0.390193\tvalidation_1-logloss:0.43127\n",
      "[36]\tvalidation_0-logloss:0.389455\tvalidation_1-logloss:0.431911\n",
      "[37]\tvalidation_0-logloss:0.388452\tvalidation_1-logloss:0.431369\n",
      "[38]\tvalidation_0-logloss:0.387254\tvalidation_1-logloss:0.431138\n",
      "[39]\tvalidation_0-logloss:0.38648\tvalidation_1-logloss:0.431237\n",
      "[40]\tvalidation_0-logloss:0.385471\tvalidation_1-logloss:0.430964\n",
      "[41]\tvalidation_0-logloss:0.384706\tvalidation_1-logloss:0.430702\n",
      "[42]\tvalidation_0-logloss:0.382459\tvalidation_1-logloss:0.430365\n",
      "[43]\tvalidation_0-logloss:0.381894\tvalidation_1-logloss:0.431169\n",
      "[44]\tvalidation_0-logloss:0.379059\tvalidation_1-logloss:0.431164\n",
      "[45]\tvalidation_0-logloss:0.378496\tvalidation_1-logloss:0.431601\n",
      "[46]\tvalidation_0-logloss:0.377823\tvalidation_1-logloss:0.431239\n",
      "[47]\tvalidation_0-logloss:0.375608\tvalidation_1-logloss:0.430975\n",
      "[48]\tvalidation_0-logloss:0.374735\tvalidation_1-logloss:0.430723\n",
      "[49]\tvalidation_0-logloss:0.372785\tvalidation_1-logloss:0.430702\n",
      "[50]\tvalidation_0-logloss:0.372199\tvalidation_1-logloss:0.430248\n",
      "[51]\tvalidation_0-logloss:0.370319\tvalidation_1-logloss:0.430215\n",
      "[52]\tvalidation_0-logloss:0.369817\tvalidation_1-logloss:0.43091\n",
      "[53]\tvalidation_0-logloss:0.368111\tvalidation_1-logloss:0.431016\n",
      "[54]\tvalidation_0-logloss:0.367341\tvalidation_1-logloss:0.430785\n",
      "[55]\tvalidation_0-logloss:0.366618\tvalidation_1-logloss:0.430983\n",
      "[56]\tvalidation_0-logloss:0.366234\tvalidation_1-logloss:0.431588\n",
      "[57]\tvalidation_0-logloss:0.36555\tvalidation_1-logloss:0.43139\n",
      "[58]\tvalidation_0-logloss:0.364106\tvalidation_1-logloss:0.431704\n",
      "[59]\tvalidation_0-logloss:0.362546\tvalidation_1-logloss:0.431288\n",
      "[60]\tvalidation_0-logloss:0.362153\tvalidation_1-logloss:0.4316\n",
      "[61]\tvalidation_0-logloss:0.361562\tvalidation_1-logloss:0.431414\n",
      "[62]\tvalidation_0-logloss:0.361068\tvalidation_1-logloss:0.430969\n",
      "[63]\tvalidation_0-logloss:0.359786\tvalidation_1-logloss:0.431058\n",
      "[64]\tvalidation_0-logloss:0.359065\tvalidation_1-logloss:0.43183\n",
      "[65]\tvalidation_0-logloss:0.357193\tvalidation_1-logloss:0.432229\n",
      "[66]\tvalidation_0-logloss:0.356011\tvalidation_1-logloss:0.43208\n",
      "[67]\tvalidation_0-logloss:0.355478\tvalidation_1-logloss:0.431906\n",
      "[68]\tvalidation_0-logloss:0.354924\tvalidation_1-logloss:0.431971\n",
      "[69]\tvalidation_0-logloss:0.353536\tvalidation_1-logloss:0.43219\n",
      "[70]\tvalidation_0-logloss:0.353154\tvalidation_1-logloss:0.432569\n",
      "[71]\tvalidation_0-logloss:0.352681\tvalidation_1-logloss:0.432416\n",
      "[72]\tvalidation_0-logloss:0.352179\tvalidation_1-logloss:0.432543\n",
      "[73]\tvalidation_0-logloss:0.350609\tvalidation_1-logloss:0.433562\n",
      "[74]\tvalidation_0-logloss:0.34935\tvalidation_1-logloss:0.434135\n",
      "[75]\tvalidation_0-logloss:0.348958\tvalidation_1-logloss:0.433951\n",
      "[76]\tvalidation_0-logloss:0.348504\tvalidation_1-logloss:0.434041\n",
      "[77]\tvalidation_0-logloss:0.347631\tvalidation_1-logloss:0.433565\n",
      "[78]\tvalidation_0-logloss:0.346527\tvalidation_1-logloss:0.433347\n",
      "[79]\tvalidation_0-logloss:0.345219\tvalidation_1-logloss:0.433485\n",
      "[80]\tvalidation_0-logloss:0.344786\tvalidation_1-logloss:0.43364\n",
      "[81]\tvalidation_0-logloss:0.344419\tvalidation_1-logloss:0.433465\n",
      "[82]\tvalidation_0-logloss:0.343963\tvalidation_1-logloss:0.433597\n",
      "[83]\tvalidation_0-logloss:0.343712\tvalidation_1-logloss:0.434172\n",
      "[84]\tvalidation_0-logloss:0.343016\tvalidation_1-logloss:0.433831\n",
      "[85]\tvalidation_0-logloss:0.342095\tvalidation_1-logloss:0.434909\n",
      "[86]\tvalidation_0-logloss:0.34082\tvalidation_1-logloss:0.434762\n",
      "[87]\tvalidation_0-logloss:0.340227\tvalidation_1-logloss:0.434826\n",
      "[88]\tvalidation_0-logloss:0.339263\tvalidation_1-logloss:0.434939\n",
      "[89]\tvalidation_0-logloss:0.338956\tvalidation_1-logloss:0.435274\n",
      "[90]\tvalidation_0-logloss:0.338593\tvalidation_1-logloss:0.435166\n",
      "[91]\tvalidation_0-logloss:0.337563\tvalidation_1-logloss:0.435768\n",
      "[92]\tvalidation_0-logloss:0.336561\tvalidation_1-logloss:0.43615\n",
      "[93]\tvalidation_0-logloss:0.335208\tvalidation_1-logloss:0.435894\n",
      "[94]\tvalidation_0-logloss:0.334356\tvalidation_1-logloss:0.435867\n",
      "[95]\tvalidation_0-logloss:0.333998\tvalidation_1-logloss:0.435731\n",
      "[96]\tvalidation_0-logloss:0.33282\tvalidation_1-logloss:0.435552\n",
      "[97]\tvalidation_0-logloss:0.332312\tvalidation_1-logloss:0.435654\n",
      "[98]\tvalidation_0-logloss:0.331991\tvalidation_1-logloss:0.435674\n",
      "[99]\tvalidation_0-logloss:0.33047\tvalidation_1-logloss:0.435157\n"
     ]
    }
   ],
   "source": [
    "from xgboost import XGBClassifier\n",
    "\n",
    "clf = XGBClassifier()\n",
    "clf_hist = clf.fit(\n",
    "    X_train, \n",
    "    y_train,\n",
    "    eval_metric='logloss', \n",
    "    verbose=1,\n",
    "    eval_set=[(X_train, y_train), (X_test, y_test)]\n",
    ")\n"
   ]
  },
  {
   "cell_type": "code",
   "execution_count": 312,
   "metadata": {},
   "outputs": [
    {
     "name": "stdout",
     "output_type": "stream",
     "text": [
      "              precision    recall  f1-score   support\n",
      "\n",
      "           0       0.80      0.91      0.85       184\n",
      "           1       0.84      0.68      0.75       130\n",
      "\n",
      "    accuracy                           0.82       314\n",
      "   macro avg       0.82      0.80      0.80       314\n",
      "weighted avg       0.82      0.82      0.81       314\n",
      "\n"
     ]
    }
   ],
   "source": [
    "print(metrics.classification_report(y_test, clf.predict(X_test)))"
   ]
  },
  {
   "cell_type": "code",
   "execution_count": 313,
   "metadata": {},
   "outputs": [
    {
     "name": "stdout",
     "output_type": "stream",
     "text": [
      "              precision    recall  f1-score   support\n",
      "\n",
      "           0       0.85      0.94      0.89       434\n",
      "           1       0.90      0.76      0.83       297\n",
      "\n",
      "    accuracy                           0.87       731\n",
      "   macro avg       0.88      0.85      0.86       731\n",
      "weighted avg       0.87      0.87      0.87       731\n",
      "\n"
     ]
    }
   ],
   "source": [
    "print(metrics.classification_report(y_train, clf.predict(X_train)))"
   ]
  },
  {
   "cell_type": "code",
   "execution_count": 145,
   "metadata": {},
   "outputs": [
    {
     "ename": "NameError",
     "evalue": "name 'clf_hist' is not defined",
     "output_type": "error",
     "traceback": [
      "\u001b[0;31m---------------------------------------------------------------------------\u001b[0m",
      "\u001b[0;31mNameError\u001b[0m                                 Traceback (most recent call last)",
      "\u001b[0;32m<ipython-input-145-84725929570b>\u001b[0m in \u001b[0;36m<module>\u001b[0;34m\u001b[0m\n\u001b[0;32m----> 1\u001b[0;31m \u001b[0mclf_hist\u001b[0m\u001b[0;34m.\u001b[0m\u001b[0mevals_result\u001b[0m\u001b[0;34m(\u001b[0m\u001b[0;34m)\u001b[0m\u001b[0;34m\u001b[0m\u001b[0;34m\u001b[0m\u001b[0m\n\u001b[0m",
      "\u001b[0;31mNameError\u001b[0m: name 'clf_hist' is not defined"
     ]
    }
   ],
   "source": [
    "clf_hist.evals_result()"
   ]
  },
  {
   "cell_type": "code",
   "execution_count": null,
   "metadata": {},
   "outputs": [],
   "source": []
  }
 ],
 "metadata": {
  "kernelspec": {
   "display_name": "Python 3",
   "language": "python",
   "name": "python3"
  },
  "language_info": {
   "codemirror_mode": {
    "name": "ipython",
    "version": 3
   },
   "file_extension": ".py",
   "mimetype": "text/x-python",
   "name": "python",
   "nbconvert_exporter": "python",
   "pygments_lexer": "ipython3",
   "version": "3.6.8"
  }
 },
 "nbformat": 4,
 "nbformat_minor": 2
}
